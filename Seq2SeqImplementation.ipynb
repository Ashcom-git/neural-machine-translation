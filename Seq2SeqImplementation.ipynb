{
 "cells": [
  {
   "cell_type": "markdown",
   "metadata": {
    "id": "fwPL0hIlGKoA"
   },
   "source": [
    "# <font color='red'>**Sequence to sequence implementation**</font>"
   ]
  },
  {
   "cell_type": "markdown",
   "metadata": {
    "id": "-nYHE_1ck2az"
   },
   "source": [
    "**There will be some functions that start with the word \"grader\" ex: grader_check_encoder(), grader_check_attention(), grader_onestepdecoder() etc, you should not change those function definition.<br><br>Every Grader function has to return True.**\n",
    "\n",
    "**Note 1:**  There are many blogs on the attention mechanisum which might be misleading you,\n",
    " so do read the references completly and after that only please check the internet.\n",
    " The best things is to read the research papers and try to implement it on your own. \n",
    "\n",
    "**Note 2:** To complete this assignment, the reference that are mentioned will be enough.\n",
    "\n",
    "**Note 3:** If you are starting this assignment, you might have completed minimum of 20 assignment.\n",
    " If  you are still not able to implement this algorithm you might have rushed in the previous assignments \n",
    "with out learning much and didn't spend your time productively."
   ]
  },
  {
   "cell_type": "markdown",
   "metadata": {
    "id": "QyfZo8fmLOec"
   },
   "source": [
    "## Task -1: Simple Encoder and Decoder\n",
    "Implement simple Encoder-Decoder model"
   ]
  },
  {
   "cell_type": "markdown",
   "metadata": {
    "id": "IvNSZXNkkOkO"
   },
   "source": [
    "1. Download the **Italian** to **English** translation dataset from <a href=\"http://www.manythings.org/anki/ita-eng.zip\">here</a>\n",
    "\n",
    "2. You will find **ita.txt** file in that ZIP, \n",
    "you can read that data using python and preprocess that data this way only: \n",
    "<img src='https://i.imgur.com/z0j79Jf.png'>    \n",
    "    \n",
    "3. You have to implement a simple Encoder and Decoder architecture  \n",
    "\n",
    "4. Use BLEU score as metric to evaluate your model. You can use any loss function you need.\n",
    "\n",
    "5. You have to use Tensorboard to plot the Graph, Scores and histograms of gradients. \n",
    "\n",
    "6.  a. Check the reference notebook <br>\n",
    "    b. <a href=\"https://medium.com/analytics-vidhya/understand-sequence-to-sequence-models-in-a-more-intuitive-way-1d517d8795bb\">Resource 2</a>\n",
    "    \n",
    "\n"
   ]
  },
  {
   "cell_type": "code",
   "execution_count": 1,
   "metadata": {
    "colab": {
     "base_uri": "https://localhost:8080/"
    },
    "id": "cv8f-1HxVMka",
    "outputId": "11f9011a-6d46-4ff5-8200-42a67b8c980a"
   },
   "outputs": [
    {
     "name": "stdout",
     "output_type": "stream",
     "text": [
      "Mounted at /content/drive\n"
     ]
    }
   ],
   "source": [
    "from google.colab import drive\n",
    "drive.mount('/content/drive')"
   ]
  },
  {
   "cell_type": "code",
   "execution_count": 2,
   "metadata": {
    "id": "CL6pN9utddX9"
   },
   "outputs": [],
   "source": [
    "from tensorflow.keras.layers import Input, Softmax, RNN, Dense, Embedding, LSTM\n",
    "from tensorflow.keras import Model\n",
    "from tensorflow.keras.preprocessing.text import Tokenizer\n",
    "import tensorflow as tf\n",
    "import numpy as np\n",
    "import re\n",
    "from tensorflow.keras.preprocessing.text import Tokenizer\n",
    "from tensorflow.keras.preprocessing.sequence import pad_sequences\n",
    "import nltk.translate.bleu_score as bleu\n",
    "import warnings\n",
    "warnings.filterwarnings(\"ignore\")\n",
    "import pandas as pd"
   ]
  },
  {
   "cell_type": "code",
   "execution_count": 3,
   "metadata": {
    "colab": {
     "base_uri": "https://localhost:8080/"
    },
    "id": "I6F_IohGFSrB",
    "outputId": "59c5c3db-3bea-4f3a-edd7-34da80c0e1e7"
   },
   "outputs": [
    {
     "name": "stdout",
     "output_type": "stream",
     "text": [
      "Archive:  /content/drive/MyDrive/Attention mechanism/ita-eng.zip\n",
      "  inflating: ita.txt                 \n",
      "  inflating: _about.txt              \n"
     ]
    }
   ],
   "source": [
    "! unzip '/content/drive/MyDrive/Attention mechanism/ita-eng.zip'"
   ]
  },
  {
   "cell_type": "markdown",
   "metadata": {
    "id": "3k_AlAuKJqVA"
   },
   "source": [
    "<font color='blue'>**Load the data**</font>"
   ]
  },
  {
   "cell_type": "code",
   "execution_count": 4,
   "metadata": {
    "colab": {
     "base_uri": "https://localhost:8080/",
     "height": 202
    },
    "id": "fU80Ao-AGaob",
    "outputId": "37554a70-b9c1-497f-f190-3ecf40af92c3"
   },
   "outputs": [
    {
     "data": {
      "text/html": [
       "<div>\n",
       "<style scoped>\n",
       "    .dataframe tbody tr th:only-of-type {\n",
       "        vertical-align: middle;\n",
       "    }\n",
       "\n",
       "    .dataframe tbody tr th {\n",
       "        vertical-align: top;\n",
       "    }\n",
       "\n",
       "    .dataframe thead th {\n",
       "        text-align: right;\n",
       "    }\n",
       "</style>\n",
       "<table border=\"1\" class=\"dataframe\">\n",
       "  <thead>\n",
       "    <tr style=\"text-align: right;\">\n",
       "      <th></th>\n",
       "      <th>english</th>\n",
       "      <th>italian</th>\n",
       "      <th>meta_data</th>\n",
       "    </tr>\n",
       "  </thead>\n",
       "  <tbody>\n",
       "    <tr>\n",
       "      <th>0</th>\n",
       "      <td>Hi.</td>\n",
       "      <td>Ciao!</td>\n",
       "      <td>CC-BY 2.0 (France) Attribution: tatoeba.org #5...</td>\n",
       "    </tr>\n",
       "    <tr>\n",
       "      <th>1</th>\n",
       "      <td>Run!</td>\n",
       "      <td>Corri!</td>\n",
       "      <td>CC-BY 2.0 (France) Attribution: tatoeba.org #9...</td>\n",
       "    </tr>\n",
       "    <tr>\n",
       "      <th>2</th>\n",
       "      <td>Run!</td>\n",
       "      <td>Corra!</td>\n",
       "      <td>CC-BY 2.0 (France) Attribution: tatoeba.org #9...</td>\n",
       "    </tr>\n",
       "    <tr>\n",
       "      <th>3</th>\n",
       "      <td>Run!</td>\n",
       "      <td>Correte!</td>\n",
       "      <td>CC-BY 2.0 (France) Attribution: tatoeba.org #9...</td>\n",
       "    </tr>\n",
       "    <tr>\n",
       "      <th>4</th>\n",
       "      <td>Who?</td>\n",
       "      <td>Chi?</td>\n",
       "      <td>CC-BY 2.0 (France) Attribution: tatoeba.org #2...</td>\n",
       "    </tr>\n",
       "  </tbody>\n",
       "</table>\n",
       "</div>"
      ],
      "text/plain": [
       "  english   italian                                          meta_data\n",
       "0     Hi.     Ciao!  CC-BY 2.0 (France) Attribution: tatoeba.org #5...\n",
       "1    Run!    Corri!  CC-BY 2.0 (France) Attribution: tatoeba.org #9...\n",
       "2    Run!    Corra!  CC-BY 2.0 (France) Attribution: tatoeba.org #9...\n",
       "3    Run!  Correte!  CC-BY 2.0 (France) Attribution: tatoeba.org #9...\n",
       "4    Who?      Chi?  CC-BY 2.0 (France) Attribution: tatoeba.org #2..."
      ]
     },
     "execution_count": 4,
     "metadata": {
      "tags": []
     },
     "output_type": "execute_result"
    }
   ],
   "source": [
    "data = pd.read_csv('/content/ita.txt',sep=\"\\t\",header=None, names=['english','italian','meta_data'])\n",
    "data.head()"
   ]
  },
  {
   "cell_type": "code",
   "execution_count": 5,
   "metadata": {
    "colab": {
     "base_uri": "https://localhost:8080/",
     "height": 202
    },
    "id": "ZjGlGiF6A99l",
    "outputId": "e6f47284-bec1-4f57-ad53-c80c8a92b124"
   },
   "outputs": [
    {
     "data": {
      "text/html": [
       "<div>\n",
       "<style scoped>\n",
       "    .dataframe tbody tr th:only-of-type {\n",
       "        vertical-align: middle;\n",
       "    }\n",
       "\n",
       "    .dataframe tbody tr th {\n",
       "        vertical-align: top;\n",
       "    }\n",
       "\n",
       "    .dataframe thead th {\n",
       "        text-align: right;\n",
       "    }\n",
       "</style>\n",
       "<table border=\"1\" class=\"dataframe\">\n",
       "  <thead>\n",
       "    <tr style=\"text-align: right;\">\n",
       "      <th></th>\n",
       "      <th>english</th>\n",
       "      <th>italian</th>\n",
       "      <th>meta_data</th>\n",
       "    </tr>\n",
       "  </thead>\n",
       "  <tbody>\n",
       "    <tr>\n",
       "      <th>0</th>\n",
       "      <td>hi</td>\n",
       "      <td>ciao</td>\n",
       "      <td>CC-BY 2.0 (France) Attribution: tatoeba.org #5...</td>\n",
       "    </tr>\n",
       "    <tr>\n",
       "      <th>1</th>\n",
       "      <td>run</td>\n",
       "      <td>corri</td>\n",
       "      <td>CC-BY 2.0 (France) Attribution: tatoeba.org #9...</td>\n",
       "    </tr>\n",
       "    <tr>\n",
       "      <th>2</th>\n",
       "      <td>run</td>\n",
       "      <td>corra</td>\n",
       "      <td>CC-BY 2.0 (France) Attribution: tatoeba.org #9...</td>\n",
       "    </tr>\n",
       "    <tr>\n",
       "      <th>3</th>\n",
       "      <td>run</td>\n",
       "      <td>correte</td>\n",
       "      <td>CC-BY 2.0 (France) Attribution: tatoeba.org #9...</td>\n",
       "    </tr>\n",
       "    <tr>\n",
       "      <th>4</th>\n",
       "      <td>who</td>\n",
       "      <td>chi</td>\n",
       "      <td>CC-BY 2.0 (France) Attribution: tatoeba.org #2...</td>\n",
       "    </tr>\n",
       "  </tbody>\n",
       "</table>\n",
       "</div>"
      ],
      "text/plain": [
       "  english  italian                                          meta_data\n",
       "0      hi     ciao  CC-BY 2.0 (France) Attribution: tatoeba.org #5...\n",
       "1     run    corri  CC-BY 2.0 (France) Attribution: tatoeba.org #9...\n",
       "2     run    corra  CC-BY 2.0 (France) Attribution: tatoeba.org #9...\n",
       "3     run  correte  CC-BY 2.0 (France) Attribution: tatoeba.org #9...\n",
       "4     who      chi  CC-BY 2.0 (France) Attribution: tatoeba.org #2..."
      ]
     },
     "execution_count": 5,
     "metadata": {
      "tags": []
     },
     "output_type": "execute_result"
    }
   ],
   "source": [
    "def decontractions(phrase):\n",
    "    \"\"\"decontracted takes text and convert contractions into natural form.\n",
    "     ref: https://stackoverflow.com/questions/19790188/expanding-english-language-contractions-in-python/47091490#47091490\"\"\"\n",
    "    # specific\n",
    "    phrase = re.sub(r\"won\\'t\", \"will not\", phrase)\n",
    "    phrase = re.sub(r\"can\\'t\", \"can not\", phrase)\n",
    "    phrase = re.sub(r\"won\\’t\", \"will not\", phrase)\n",
    "    phrase = re.sub(r\"can\\’t\", \"can not\", phrase)\n",
    "\n",
    "    # general\n",
    "    phrase = re.sub(r\"n\\'t\", \" not\", phrase)\n",
    "    phrase = re.sub(r\"\\'re\", \" are\", phrase)\n",
    "    phrase = re.sub(r\"\\'s\", \" is\", phrase)\n",
    "    phrase = re.sub(r\"\\'d\", \" would\", phrase)\n",
    "    phrase = re.sub(r\"\\'ll\", \" will\", phrase)\n",
    "    phrase = re.sub(r\"\\'t\", \" not\", phrase)\n",
    "    phrase = re.sub(r\"\\'ve\", \" have\", phrase)\n",
    "    phrase = re.sub(r\"\\'m\", \" am\", phrase)\n",
    "\n",
    "    phrase = re.sub(r\"n\\’t\", \" not\", phrase)\n",
    "    phrase = re.sub(r\"\\’re\", \" are\", phrase)\n",
    "    phrase = re.sub(r\"\\’s\", \" is\", phrase)\n",
    "    phrase = re.sub(r\"\\’d\", \" would\", phrase)\n",
    "    phrase = re.sub(r\"\\’ll\", \" will\", phrase)\n",
    "    phrase = re.sub(r\"\\’t\", \" not\", phrase)\n",
    "    phrase = re.sub(r\"\\’ve\", \" have\", phrase)\n",
    "    phrase = re.sub(r\"\\’m\", \" am\", phrase)\n",
    "\n",
    "    return phrase\n",
    "\n",
    "def preprocess(text):\n",
    "    # convert all the text into lower letters\n",
    "    # use this function to remove the contractions: https://gist.github.com/anandborad/d410a49a493b56dace4f814ab5325bbd\n",
    "    # remove all the spacial characters: except space ' '\n",
    "    text = text.lower()\n",
    "    text = decontractions(text)\n",
    "    text = re.sub('[^A-Za-z0-9 ]+', '', text)\n",
    "    return text\n",
    "\n",
    "def preprocess_ita(text):\n",
    "    # convert all the text into lower letters\n",
    "    # remove the words betweent brakets ()\n",
    "    # remove these characters: {'$', ')', '?', '\"', '’', '.',  '°', '!', ';', '/', \"'\", '€', '%', ':', ',', '('}\n",
    "    # replace these spl characters with space: '\\u200b', '\\xa0', '-', '/'\n",
    "    # we have found these characters after observing the data points, feel free to explore more and see if you can do find more\n",
    "    # you are free to do more proprocessing\n",
    "    # note that the model will learn better with better preprocessed data \n",
    "    \n",
    "    text = text.lower()\n",
    "    text = decontractions(text)\n",
    "    text = re.sub('[$)\\?\"’.°!;\\'€%:,(/]', '', text)\n",
    "    text = re.sub('\\u200b', ' ', text)\n",
    "    text = re.sub('\\xa0', ' ', text)\n",
    "    text = re.sub('-', ' ', text)\n",
    "    return text\n",
    "\n",
    "\n",
    "data['english'] = data['english'].apply(preprocess)\n",
    "data['italian'] = data['italian'].apply(preprocess_ita)\n",
    "data.head()"
   ]
  },
  {
   "cell_type": "code",
   "execution_count": 6,
   "metadata": {
    "colab": {
     "base_uri": "https://localhost:8080/",
     "height": 202
    },
    "id": "2h-WfPzUTCAk",
    "outputId": "7d37c106-3811-4bef-a4cd-c44e8d230fd1"
   },
   "outputs": [
    {
     "data": {
      "text/html": [
       "<div>\n",
       "<style scoped>\n",
       "    .dataframe tbody tr th:only-of-type {\n",
       "        vertical-align: middle;\n",
       "    }\n",
       "\n",
       "    .dataframe tbody tr th {\n",
       "        vertical-align: top;\n",
       "    }\n",
       "\n",
       "    .dataframe thead th {\n",
       "        text-align: right;\n",
       "    }\n",
       "</style>\n",
       "<table border=\"1\" class=\"dataframe\">\n",
       "  <thead>\n",
       "    <tr style=\"text-align: right;\">\n",
       "      <th></th>\n",
       "      <th>italian</th>\n",
       "      <th>english_inp</th>\n",
       "      <th>english_out</th>\n",
       "    </tr>\n",
       "  </thead>\n",
       "  <tbody>\n",
       "    <tr>\n",
       "      <th>0</th>\n",
       "      <td>ciao</td>\n",
       "      <td>&lt;start&gt; hi</td>\n",
       "      <td>hi &lt;end&gt;</td>\n",
       "    </tr>\n",
       "    <tr>\n",
       "      <th>1</th>\n",
       "      <td>corri</td>\n",
       "      <td>&lt;start&gt; run</td>\n",
       "      <td>run &lt;end&gt;</td>\n",
       "    </tr>\n",
       "    <tr>\n",
       "      <th>2</th>\n",
       "      <td>corra</td>\n",
       "      <td>&lt;start&gt; run</td>\n",
       "      <td>run &lt;end&gt;</td>\n",
       "    </tr>\n",
       "    <tr>\n",
       "      <th>3</th>\n",
       "      <td>correte</td>\n",
       "      <td>&lt;start&gt; run</td>\n",
       "      <td>run &lt;end&gt;</td>\n",
       "    </tr>\n",
       "    <tr>\n",
       "      <th>4</th>\n",
       "      <td>chi</td>\n",
       "      <td>&lt;start&gt; who</td>\n",
       "      <td>who &lt;end&gt;</td>\n",
       "    </tr>\n",
       "  </tbody>\n",
       "</table>\n",
       "</div>"
      ],
      "text/plain": [
       "   italian  english_inp english_out\n",
       "0     ciao   <start> hi    hi <end>\n",
       "1    corri  <start> run   run <end>\n",
       "2    corra  <start> run   run <end>\n",
       "3  correte  <start> run   run <end>\n",
       "4      chi  <start> who   who <end>"
      ]
     },
     "execution_count": 6,
     "metadata": {
      "tags": []
     },
     "output_type": "execute_result"
    }
   ],
   "source": [
    "data['italian_len'] = data['italian'].str.split().apply(len)\n",
    "data = data[data['italian_len'] < 20]\n",
    "\n",
    "data['english_len'] = data['english'].str.split().apply(len)\n",
    "data = data[data['english_len'] < 20]\n",
    "\n",
    "data['english_inp'] = '<start> ' + data['english'].astype(str)\n",
    "data['english_out'] = data['english'].astype(str) + ' <end>'\n",
    "\n",
    "data = data.drop(['english','italian_len','english_len','meta_data'], axis=1)\n",
    "# only for the first sentance add a toke <end> so that we will have <end> in tokenizer\n",
    "data.head()"
   ]
  },
  {
   "cell_type": "markdown",
   "metadata": {
    "id": "vmGWTdRmKRph"
   },
   "source": [
    "<font color='blue'>**Preprocess data**</font>"
   ]
  },
  {
   "cell_type": "code",
   "execution_count": 7,
   "metadata": {
    "id": "yKpjhVYCNZqQ"
   },
   "outputs": [],
   "source": [
    "from sklearn.model_selection import train_test_split\n",
    "train, validation = train_test_split(data, test_size=0.2,random_state=5)"
   ]
  },
  {
   "cell_type": "code",
   "execution_count": 8,
   "metadata": {
    "colab": {
     "base_uri": "https://localhost:8080/"
    },
    "id": "t-es0ofqPj_B",
    "outputId": "8a40f3ed-d9a4-44d0-af52-9f232f136e12"
   },
   "outputs": [
    {
     "name": "stdout",
     "output_type": "stream",
     "text": [
      "(275852, 3) (68964, 3)\n"
     ]
    }
   ],
   "source": [
    "print(train.shape, validation.shape)\n",
    "# for one sentence we will be adding <end> token so that the tokanizer learns the word <end>\n",
    "# with this we can use only one tokenizer for both encoder output and decoder output\n",
    "train.iloc[0]['english_inp']= str(train.iloc[0]['english_inp'])+' <end>'\n",
    "train.iloc[0]['english_out']= str(train.iloc[0]['english_out'])+' <end>'"
   ]
  },
  {
   "cell_type": "code",
   "execution_count": 9,
   "metadata": {
    "colab": {
     "base_uri": "https://localhost:8080/",
     "height": 202
    },
    "id": "ow3eWEPn5wo8",
    "outputId": "8c9c9122-889f-4aa1-bc88-1942e85db96d"
   },
   "outputs": [
    {
     "data": {
      "text/html": [
       "<div>\n",
       "<style scoped>\n",
       "    .dataframe tbody tr th:only-of-type {\n",
       "        vertical-align: middle;\n",
       "    }\n",
       "\n",
       "    .dataframe tbody tr th {\n",
       "        vertical-align: top;\n",
       "    }\n",
       "\n",
       "    .dataframe thead th {\n",
       "        text-align: right;\n",
       "    }\n",
       "</style>\n",
       "<table border=\"1\" class=\"dataframe\">\n",
       "  <thead>\n",
       "    <tr style=\"text-align: right;\">\n",
       "      <th></th>\n",
       "      <th>italian</th>\n",
       "      <th>english_inp</th>\n",
       "      <th>english_out</th>\n",
       "    </tr>\n",
       "  </thead>\n",
       "  <tbody>\n",
       "    <tr>\n",
       "      <th>58423</th>\n",
       "      <td>come sta sua madre</td>\n",
       "      <td>&lt;start&gt; how is your mother &lt;end&gt;</td>\n",
       "      <td>how is your mother &lt;end&gt; &lt;end&gt;</td>\n",
       "    </tr>\n",
       "    <tr>\n",
       "      <th>281771</th>\n",
       "      <td>sto cercando un anello di fidanzamento</td>\n",
       "      <td>&lt;start&gt; i am looking for an engagement ring</td>\n",
       "      <td>i am looking for an engagement ring &lt;end&gt;</td>\n",
       "    </tr>\n",
       "    <tr>\n",
       "      <th>47625</th>\n",
       "      <td>io devo andarmene da qui</td>\n",
       "      <td>&lt;start&gt; i must leave here</td>\n",
       "      <td>i must leave here &lt;end&gt;</td>\n",
       "    </tr>\n",
       "    <tr>\n",
       "      <th>13157</th>\n",
       "      <td>io ero geloso</td>\n",
       "      <td>&lt;start&gt; i was jealous</td>\n",
       "      <td>i was jealous &lt;end&gt;</td>\n",
       "    </tr>\n",
       "    <tr>\n",
       "      <th>225885</th>\n",
       "      <td>guardo la tv quasi ogni sera</td>\n",
       "      <td>&lt;start&gt; i watch tv almost every night</td>\n",
       "      <td>i watch tv almost every night &lt;end&gt;</td>\n",
       "    </tr>\n",
       "  </tbody>\n",
       "</table>\n",
       "</div>"
      ],
      "text/plain": [
       "                                       italian  ...                                english_out\n",
       "58423                       come sta sua madre  ...             how is your mother <end> <end>\n",
       "281771  sto cercando un anello di fidanzamento  ...  i am looking for an engagement ring <end>\n",
       "47625                 io devo andarmene da qui  ...                    i must leave here <end>\n",
       "13157                            io ero geloso  ...                        i was jealous <end>\n",
       "225885            guardo la tv quasi ogni sera  ...        i watch tv almost every night <end>\n",
       "\n",
       "[5 rows x 3 columns]"
      ]
     },
     "execution_count": 9,
     "metadata": {
      "tags": []
     },
     "output_type": "execute_result"
    }
   ],
   "source": [
    "train.head()"
   ]
  },
  {
   "cell_type": "code",
   "execution_count": 10,
   "metadata": {
    "colab": {
     "base_uri": "https://localhost:8080/",
     "height": 202
    },
    "id": "BD97Yoa9Q5iU",
    "outputId": "75c67643-086d-49ec-88b7-bc820014e05a"
   },
   "outputs": [
    {
     "data": {
      "text/html": [
       "<div>\n",
       "<style scoped>\n",
       "    .dataframe tbody tr th:only-of-type {\n",
       "        vertical-align: middle;\n",
       "    }\n",
       "\n",
       "    .dataframe tbody tr th {\n",
       "        vertical-align: top;\n",
       "    }\n",
       "\n",
       "    .dataframe thead th {\n",
       "        text-align: right;\n",
       "    }\n",
       "</style>\n",
       "<table border=\"1\" class=\"dataframe\">\n",
       "  <thead>\n",
       "    <tr style=\"text-align: right;\">\n",
       "      <th></th>\n",
       "      <th>italian</th>\n",
       "      <th>english_inp</th>\n",
       "      <th>english_out</th>\n",
       "    </tr>\n",
       "  </thead>\n",
       "  <tbody>\n",
       "    <tr>\n",
       "      <th>247572</th>\n",
       "      <td>sei sicuro che tom non sarà arrabbiato</td>\n",
       "      <td>&lt;start&gt; are you sure tom will not be angry</td>\n",
       "      <td>are you sure tom will not be angry &lt;end&gt;</td>\n",
       "    </tr>\n",
       "    <tr>\n",
       "      <th>237206</th>\n",
       "      <td>io penso sicuramente che sia fattibile</td>\n",
       "      <td>&lt;start&gt; i definitely think it is doable</td>\n",
       "      <td>i definitely think it is doable &lt;end&gt;</td>\n",
       "    </tr>\n",
       "    <tr>\n",
       "      <th>267105</th>\n",
       "      <td>tom dice di voler perdere peso</td>\n",
       "      <td>&lt;start&gt; tom says he wants to lose weight</td>\n",
       "      <td>tom says he wants to lose weight &lt;end&gt;</td>\n",
       "    </tr>\n",
       "    <tr>\n",
       "      <th>277264</th>\n",
       "      <td>cosha fatto con i libri</td>\n",
       "      <td>&lt;start&gt; what have you done with the books</td>\n",
       "      <td>what have you done with the books &lt;end&gt;</td>\n",
       "    </tr>\n",
       "    <tr>\n",
       "      <th>64297</th>\n",
       "      <td>loro non sono stupide</td>\n",
       "      <td>&lt;start&gt; they are not stupid</td>\n",
       "      <td>they are not stupid &lt;end&gt;</td>\n",
       "    </tr>\n",
       "  </tbody>\n",
       "</table>\n",
       "</div>"
      ],
      "text/plain": [
       "                                       italian  ...                               english_out\n",
       "247572  sei sicuro che tom non sarà arrabbiato  ...  are you sure tom will not be angry <end>\n",
       "237206  io penso sicuramente che sia fattibile  ...     i definitely think it is doable <end>\n",
       "267105          tom dice di voler perdere peso  ...    tom says he wants to lose weight <end>\n",
       "277264                 cosha fatto con i libri  ...   what have you done with the books <end>\n",
       "64297                    loro non sono stupide  ...                 they are not stupid <end>\n",
       "\n",
       "[5 rows x 3 columns]"
      ]
     },
     "execution_count": 10,
     "metadata": {
      "tags": []
     },
     "output_type": "execute_result"
    }
   ],
   "source": [
    "validation.head()"
   ]
  },
  {
   "cell_type": "markdown",
   "metadata": {
    "id": "S8RDrP4xKabR"
   },
   "source": [
    "## <font color='blue'>**Implement custom encoder decoder**</font>"
   ]
  },
  {
   "cell_type": "markdown",
   "metadata": {
    "id": "A45uc0JILMlV"
   },
   "source": [
    "<font color='blue'>**Encoder**</font>"
   ]
  },
  {
   "cell_type": "code",
   "execution_count": null,
   "metadata": {
    "id": "9cex2XfCLOew"
   },
   "outputs": [],
   "source": [
    "class Encoder(Model):\n",
    "    '''\n",
    "    Encoder model -- That takes a input sequence and returns encoder-outputs,encoder_final_state_h,encoder_final_state_c\n",
    "    '''\n",
    "\n",
    "    def __init__(self,inp_vocab_size,embedding_size,lstm_size,input_length):\n",
    "      super().__init__()\n",
    "      self.lstm_size = lstm_size\n",
    "      self.embedding_layer = Embedding(input_dim=inp_vocab_size,output_dim=embedding_size,input_length=input_length, mask_zero=True)  \n",
    "      self.lstm = LSTM(lstm_size,return_state=True,return_sequences=True)\n",
    "\n",
    "    def call(self,input_sequence,states):\n",
    "      '''\n",
    "        This function takes a sequence input and the initial states of the encoder.\n",
    "        Pass the input_sequence input to the Embedding layer, Pass the embedding layer ouput to encoder_lstm\n",
    "        returns -- encoder_output, last time step's hidden and cell state\n",
    "      '''\n",
    "      self.lstm_output, self.lstm_state_h,self.lstm_state_c = self.lstm(self.embedding_layer(input_sequence))\n",
    "      return self.lstm_output, self.lstm_state_h,self.lstm_state_c\n",
    "\n",
    "    \n",
    "    def initialize_states(self,batch_size):\n",
    "      '''\n",
    "      Given a batch size it will return intial hidden state and intial cell state.\n",
    "      If batch size is 32- Hidden state is zeros of size [32,lstm_units], cell state zeros is of size [32,lstm_units]\n",
    "      '''\n",
    "      self.lstm_state_h = tf.zeros([batch_size,self.lstm_size ])\n",
    "      self.lstm_state_c = tf.zeros([batch_size,self.lstm_size ])\n",
    "      return self.lstm_state_h, self.lstm_state_c\n"
   ]
  },
  {
   "cell_type": "markdown",
   "metadata": {
    "id": "EtbOI3VwLOe0"
   },
   "source": [
    "<font color='orange'>**Grader function - 1**</font>"
   ]
  },
  {
   "cell_type": "code",
   "execution_count": null,
   "metadata": {
    "colab": {
     "base_uri": "https://localhost:8080/"
    },
    "id": "ziSqOgmhLOe1",
    "outputId": "99dfb634-b456-42e6-a649-923242c6a4b1"
   },
   "outputs": [
    {
     "name": "stdout",
     "output_type": "stream",
     "text": [
      "True\n"
     ]
    }
   ],
   "source": [
    "def grader_check_encoder():\n",
    "    '''\n",
    "        vocab-size: Unique words of the input language,\n",
    "        embedding_size: output embedding dimension for each word after embedding layer,\n",
    "        lstm_size: Number of lstm units,\n",
    "        input_length: Length of the input sentence,\n",
    "        batch_size\n",
    "    '''\n",
    "    vocab_size=10\n",
    "    embedding_size=20\n",
    "    lstm_size=32\n",
    "    input_length=10\n",
    "    batch_size=16\n",
    "    #Intialzing encoder \n",
    "    encoder=Encoder(vocab_size,embedding_size,lstm_size,input_length)\n",
    "    input_sequence=tf.random.uniform(shape=[batch_size,input_length],maxval=vocab_size,minval=0,dtype=tf.int32)\n",
    "    #Intializing encoder initial states\n",
    "    initial_state=encoder.initialize_states(batch_size)\n",
    "    \n",
    "    encoder_output,state_h,state_c=encoder(input_sequence,initial_state)\n",
    "    \n",
    "    assert(encoder_output.shape==(batch_size,input_length,lstm_size) and state_h.shape==(batch_size,lstm_size) and state_c.shape==(batch_size,lstm_size))\n",
    "    return True\n",
    "print(grader_check_encoder())"
   ]
  },
  {
   "cell_type": "code",
   "execution_count": null,
   "metadata": {
    "id": "x1ES1-sJLOe4"
   },
   "outputs": [],
   "source": [
    "class Decoder(tf.keras.Model):\n",
    "    '''\n",
    "    Encoder model -- That takes a input sequence and returns output sequence\n",
    "    '''\n",
    "\n",
    "    def __init__(self,out_vocab_size,embedding_size,lstm_size,input_length):\n",
    "      super().__init__()\n",
    "        #Initialize Embedding layer\n",
    "        #Intialize Decoder LSTM layer    \n",
    "      self.embedding_layer = Embedding(input_dim=out_vocab_size,output_dim=embedding_size,input_length=input_length)  \n",
    "      self.lstm = LSTM(lstm_size,return_state=True,return_sequences=True)   \n",
    " \n",
    "\n",
    "\n",
    "    def call(self,input_sequence,initial_states):\n",
    "      '''\n",
    "        This function takes a sequence input and the initial states of the encoder.\n",
    "        Pass the input_sequence input to the Embedding layer, Pass the embedding layer ouput to decoder_lstm\n",
    "      \n",
    "        returns -- decoder_output,decoder_final_state_h,decoder_final_state_c\n",
    "      '''\n",
    "      decoder_output,decoder_final_state_h,decoder_final_state_c = self.lstm(self.embedding_layer(input_sequence),initial_state=initial_states)\n",
    "      return decoder_output,decoder_final_state_h,decoder_final_state_c\n"
   ]
  },
  {
   "cell_type": "markdown",
   "metadata": {
    "id": "Hq-I0SUbLOe8"
   },
   "source": [
    "<font color='orange'>**Grader function - 2**</font>"
   ]
  },
  {
   "cell_type": "code",
   "execution_count": null,
   "metadata": {
    "colab": {
     "base_uri": "https://localhost:8080/"
    },
    "id": "0B0gokgKLOe8",
    "outputId": "7af5875b-1b30-42ec-a2fc-a3317427de73"
   },
   "outputs": [
    {
     "name": "stdout",
     "output_type": "stream",
     "text": [
      "True\n"
     ]
    }
   ],
   "source": [
    "def grader_decoder():\n",
    "    '''\n",
    "        out_vocab_size: Unique words of the target language,\n",
    "        embedding_size: output embedding dimension for each word after embedding layer,\n",
    "        dec_units: Number of lstm units in decoder,\n",
    "        input_length: Length of the input sentence,\n",
    "        batch_size\n",
    "        \n",
    "    \n",
    "    '''\n",
    "    out_vocab_size=13 \n",
    "    embedding_dim=12 \n",
    "    input_length=10\n",
    "    dec_units=16 \n",
    "    batch_size=32\n",
    "    \n",
    "    target_sentences=tf.random.uniform(shape=(batch_size,input_length),maxval=10,minval=0,dtype=tf.int32)\n",
    "    encoder_output=tf.random.uniform(shape=[batch_size,input_length,dec_units])\n",
    "    state_h=tf.random.uniform(shape=[batch_size,dec_units])\n",
    "    state_c=tf.random.uniform(shape=[batch_size,dec_units])\n",
    "    states=[state_h,state_c]\n",
    "    decoder=Decoder(out_vocab_size, embedding_dim, dec_units,input_length )\n",
    "    output,_,_=decoder(target_sentences, states)\n",
    "    assert(output.shape==(batch_size,input_length,dec_units))\n",
    "    return True\n",
    "print(grader_decoder())\n"
   ]
  },
  {
   "cell_type": "code",
   "execution_count": 11,
   "metadata": {
    "id": "HhyQgu_7MpTQ"
   },
   "outputs": [],
   "source": [
    "tknizer_ita = Tokenizer()\n",
    "tknizer_ita.fit_on_texts(train['italian'].values)\n",
    "tknizer_eng = Tokenizer(filters='!\"#$%&()*+,-./:;=?@[\\\\]^_`{|}~\\t\\n')\n",
    "tknizer_eng.fit_on_texts(train['english_inp'].values)"
   ]
  },
  {
   "cell_type": "code",
   "execution_count": 12,
   "metadata": {
    "colab": {
     "base_uri": "https://localhost:8080/"
    },
    "id": "rFAjnZ4E_aoj",
    "outputId": "f2424f9a-87b6-4343-e91b-bba0e7ed2983"
   },
   "outputs": [
    {
     "name": "stdout",
     "output_type": "stream",
     "text": [
      "12858\n",
      "26238\n"
     ]
    }
   ],
   "source": [
    "vocab_size_eng=len(tknizer_eng.word_index.keys())\n",
    "print(vocab_size_eng)\n",
    "vocab_size_ita=len(tknizer_ita.word_index.keys())\n",
    "print(vocab_size_ita)"
   ]
  },
  {
   "cell_type": "code",
   "execution_count": 14,
   "metadata": {
    "id": "_oCpnReBvqhT"
   },
   "outputs": [],
   "source": [
    "class Dataset:\n",
    "    def __init__(self, data, tknizer_ita, tknizer_eng, max_len):\n",
    "        self.encoder_inps = data['italian'].values\n",
    "        self.decoder_inps = data['english_inp'].values\n",
    "        self.decoder_outs = data['english_out'].values\n",
    "        self.tknizer_eng = tknizer_eng\n",
    "        self.tknizer_ita = tknizer_ita\n",
    "        self.max_len = max_len\n",
    "\n",
    "    def __getitem__(self, i):\n",
    "        self.encoder_seq = self.tknizer_ita.texts_to_sequences([self.encoder_inps[i]]) # need to pass list of values\n",
    "        self.decoder_inp_seq = self.tknizer_eng.texts_to_sequences([self.decoder_inps[i]])\n",
    "        self.decoder_out_seq = self.tknizer_eng.texts_to_sequences([self.decoder_outs[i]])\n",
    "\n",
    "        self.encoder_seq = pad_sequences(self.encoder_seq, maxlen=self.max_len, dtype='int32', padding='post')\n",
    "        self.decoder_inp_seq = pad_sequences(self.decoder_inp_seq, maxlen=self.max_len, dtype='int32', padding='post')\n",
    "        self.decoder_out_seq = pad_sequences(self.decoder_out_seq, maxlen=self.max_len, dtype='int32', padding='post')\n",
    "        return self.encoder_seq, self.decoder_inp_seq, self.decoder_out_seq\n",
    "\n",
    "    def __len__(self): # your model.fit_gen requires this function\n",
    "        return len(self.encoder_inps)\n",
    "\n",
    "    \n",
    "class Dataloder(tf.keras.utils.Sequence):    \n",
    "    def __init__(self, dataset, batch_size=1):\n",
    "        self.dataset = dataset\n",
    "        self.batch_size = batch_size\n",
    "        self.indexes = np.arange(len(self.dataset.encoder_inps))\n",
    "\n",
    "\n",
    "    def __getitem__(self, i):\n",
    "        start = i * self.batch_size\n",
    "        stop = (i + 1) * self.batch_size\n",
    "        data = []\n",
    "        for j in range(start, stop):\n",
    "            data.append(self.dataset[j])\n",
    "\n",
    "        batch = [np.squeeze(np.stack(samples, axis=1), axis=0) for samples in zip(*data)]\n",
    "        # we are creating data like ([italian, english_inp], english_out) these are already converted into seq\n",
    "        return tuple([[batch[0],batch[1]],batch[2]])\n",
    "\n",
    "    def __len__(self):  # your model.fit_gen requires this function\n",
    "        return len(self.indexes) // self.batch_size\n",
    "\n",
    "    def on_epoch_end(self):\n",
    "        self.indexes = np.random.permutation(self.indexes)"
   ]
  },
  {
   "cell_type": "code",
   "execution_count": 15,
   "metadata": {
    "colab": {
     "base_uri": "https://localhost:8080/"
    },
    "id": "WIUVPbUvvxdM",
    "outputId": "dffedf89-856c-4e82-d1ac-35111d34a282"
   },
   "outputs": [
    {
     "name": "stdout",
     "output_type": "stream",
     "text": [
      "(1024, 20) (1024, 20) (1024, 20)\n"
     ]
    }
   ],
   "source": [
    "from tensorflow.keras.preprocessing.sequence import pad_sequences\n",
    "\n",
    "train_dataset = Dataset(train, tknizer_ita, tknizer_eng, 20)\n",
    "test_dataset  = Dataset(validation, tknizer_ita, tknizer_eng, 20)\n",
    "\n",
    "train_dataloader = Dataloder(train_dataset, batch_size=1024)\n",
    "test_dataloader = Dataloder(test_dataset, batch_size=1024)\n",
    "\n",
    "print(train_dataloader[0][0][0].shape, train_dataloader[0][0][1].shape, train_dataloader[0][1].shape)"
   ]
  },
  {
   "cell_type": "code",
   "execution_count": null,
   "metadata": {
    "id": "BXrIj4scLOe_"
   },
   "outputs": [],
   "source": [
    "class Encoder_decoder(Model):\n",
    "    \n",
    "    def __init__(self,*params):\n",
    "      super().__init__()    \n",
    "        #Create encoder object\n",
    "        #Create decoder object\n",
    "        #Intialize Dense layer(out_vocab_size) with activation='softmax'\n",
    "        # inp_vocab_size,embedding_size,lstm_size,input_length)\n",
    "      self.inp_vocab_size = params[0]\n",
    "      self.embedding_size = params[1]\n",
    "      self.lstm_size = params[2]\n",
    "      self.input_length_enc = params[3]\n",
    "      self.input_length_dec = params[4]\n",
    "      self.out_vocab_size = params[5]\n",
    "      self.encoder = Encoder(inp_vocab_size=self.inp_vocab_size+1,embedding_size=self.embedding_size[0],lstm_size=self.lstm_size,input_length=self.input_length_enc)\n",
    "      self.decoder = Decoder(out_vocab_size=self.out_vocab_size+1,embedding_size=self.embedding_size[1],lstm_size=self.lstm_size,input_length=self.input_length_dec)\n",
    "      self.dense = Dense(self.out_vocab_size, activation='softmax')\n",
    "    \n",
    "    def call(self,data):\n",
    "      '''\n",
    "      A. Pass the input sequence to Encoder layer -- Return encoder_output,encoder_final_state_h,encoder_final_state_c\n",
    "      B. Pass the target sequence to Decoder layer with intial states as encoder_final_state_h,encoder_final_state_C\n",
    "      C. Pass the decoder_outputs into Dense layer \n",
    "      \n",
    "      Return decoder_outputs\n",
    "      '''\n",
    "      self.input_data = data[0]\n",
    "      self.output_data = data[1]\n",
    "      initial_state = self.encoder.initialize_states(1024)\n",
    "      encoder_output,encoder_final_state_h,encoder_final_state_c = self.encoder(self.input_data,initial_state) \n",
    "      decoder_output,_,_ = self.decoder(self.output_data,[encoder_final_state_h,encoder_final_state_c])\n",
    "      current_output = self.dense(decoder_output)\n",
    "\n",
    "      return current_output\n"
   ]
  },
  {
   "cell_type": "code",
   "execution_count": null,
   "metadata": {
    "colab": {
     "base_uri": "https://localhost:8080/"
    },
    "id": "oV9t9on9Dm6r",
    "outputId": "e74bdc81-104d-49f7-ba40-db12b75cdd60"
   },
   "outputs": [
    {
     "name": "stderr",
     "output_type": "stream",
     "text": [
      "/usr/local/lib/python3.7/dist-packages/tensorflow/python/keras/engine/training.py:1844: UserWarning: `Model.fit_generator` is deprecated and will be removed in a future version. Please use `Model.fit`, which supports generators.\n",
      "  warnings.warn('`Model.fit_generator` is deprecated and '\n"
     ]
    },
    {
     "name": "stdout",
     "output_type": "stream",
     "text": [
      "Epoch 1/12\n",
      "269/269 [==============================] - 57s 196ms/step - loss: 3.6955 - val_loss: 1.7061\n",
      "Epoch 2/12\n",
      "269/269 [==============================] - 51s 188ms/step - loss: 1.6564 - val_loss: 1.4745\n",
      "Epoch 3/12\n",
      "269/269 [==============================] - 51s 188ms/step - loss: 1.4243 - val_loss: 1.2869\n",
      "Epoch 4/12\n",
      "269/269 [==============================] - 51s 190ms/step - loss: 1.2553 - val_loss: 1.1538\n",
      "Epoch 5/12\n",
      "269/269 [==============================] - 52s 192ms/step - loss: 1.1288 - val_loss: 1.0460\n",
      "Epoch 6/12\n",
      "269/269 [==============================] - 51s 191ms/step - loss: 1.0259 - val_loss: 0.9489\n",
      "Epoch 7/12\n",
      "269/269 [==============================] - 51s 190ms/step - loss: 0.9283 - val_loss: 0.8624\n",
      "Epoch 8/12\n",
      "269/269 [==============================] - 51s 189ms/step - loss: 0.8478 - val_loss: 0.7885\n",
      "Epoch 9/12\n",
      "269/269 [==============================] - 51s 189ms/step - loss: 0.7757 - val_loss: 0.7214\n",
      "Epoch 10/12\n",
      "269/269 [==============================] - 51s 190ms/step - loss: 0.7115 - val_loss: 0.6586\n",
      "Epoch 11/12\n",
      "269/269 [==============================] - 51s 189ms/step - loss: 0.6500 - val_loss: 0.6022\n",
      "Epoch 12/12\n",
      "269/269 [==============================] - 51s 189ms/step - loss: 0.5924 - val_loss: 0.5498\n",
      "Model: \"encoder_decoder\"\n",
      "_________________________________________________________________\n",
      "Layer (type)                 Output Shape              Param #   \n",
      "=================================================================\n",
      "encoder_1 (Encoder)          multiple                  1626318   \n",
      "_________________________________________________________________\n",
      "decoder_1 (Decoder)          multiple                  1651468   \n",
      "_________________________________________________________________\n",
      "dense (Dense)                multiple                  3304506   \n",
      "=================================================================\n",
      "Total params: 6,582,292\n",
      "Trainable params: 6,582,292\n",
      "Non-trainable params: 0\n",
      "_________________________________________________________________\n"
     ]
    }
   ],
   "source": [
    "#Create an object of encoder_decoder Model class, \n",
    "# Compile the model and fit the model\n",
    "\n",
    "model = Encoder_decoder(len(tknizer_ita.word_index),(50,100),256,20,20,len(tknizer_eng.word_index))\n",
    "optimizer = tf.keras.optimizers.Adam()\n",
    "model.compile(optimizer=optimizer,loss='sparse_categorical_crossentropy')\n",
    "train_steps=train.shape[0]//1024\n",
    "valid_steps=validation.shape[0]//1024\n",
    "model.fit_generator(train_dataloader, steps_per_epoch=train_steps, epochs=12, validation_data=train_dataloader, validation_steps=valid_steps)\n",
    "model.summary()"
   ]
  },
  {
   "cell_type": "code",
   "execution_count": null,
   "metadata": {
    "id": "SkARSlZgLOfE"
   },
   "outputs": [],
   "source": [
    "def predict(input_sentence):\n",
    "\n",
    "  '''\n",
    "  A. Given input sentence, convert the sentence into integers using tokenizer used earlier\n",
    "  B. Pass the input_sequence to encoder. we get encoder_outputs, last time step hidden and cell state\n",
    "  C. Initialize index of <start> as input to decoder. and encoder final states as input_states to decoder\n",
    "  D. till we reach max_length of decoder or till the model predicted word <end>:\n",
    "          predicted_out,state_h,state_c=model.layers[1](dec_input,states)\n",
    "          pass the predicted_out to the dense layer\n",
    "          update the states=[state_h,state_c]\n",
    "          And get the index of the word with maximum probability of the dense layer output, using the tokenizer(word index) get the word and then store it in a string.\n",
    "          Update the input_to_decoder with current predictions\n",
    "  F. Return the predicted sentence\n",
    "  '''\n",
    "\n",
    "  token_sequence = tknizer_ita.texts_to_sequences([input_sentence])\n",
    "  pad_seq = pad_sequences(token_sequence, padding='post', maxlen=20)\n",
    "\n",
    "  initial_state = model.layers[0].initialize_states(1024)\n",
    " \n",
    "  encoder_output,hidden_state_enc,cell_state_enc = model.layers[0](pad_seq,initial_state)\n",
    "  pred_sent = []\n",
    "  state_values = [hidden_state_enc,cell_state_enc]\n",
    "  cur_vec = tf.expand_dims([tknizer_eng.word_index['<start>']],0)\n",
    "\n",
    "  for i in range(20):\n",
    "\n",
    "    cur_emb = model.layers[1].embedding_layer(cur_vec)\n",
    "    decoder_output,state_h,state_c = model.layers[1].lstm(cur_emb,state_values)\n",
    "    predicted_out = model.layers[2](decoder_output)\n",
    "    state_values = [state_h,state_c]\n",
    "    cur_vec = np.reshape(np.argmax(predicted_out),(1,1))\n",
    "\n",
    "    if np.squeeze(cur_vec) != tknizer_eng.word_index['<end>']:\n",
    "      pred_sent.append(tknizer_eng.index_word[int(np.squeeze(cur_vec))]) \n",
    "    else:  \n",
    "      break\n",
    "     \n",
    "  return ' '.join(pred_sent)\n",
    "\n"
   ]
  },
  {
   "cell_type": "code",
   "execution_count": null,
   "metadata": {
    "colab": {
     "base_uri": "https://localhost:8080/"
    },
    "id": "PpQo4Nf7k8eI",
    "outputId": "b06817ae-012a-43a3-dd1f-d71394274914"
   },
   "outputs": [
    {
     "name": "stdout",
     "output_type": "stream",
     "text": [
      "BLEU score: 0.8081453347183427\n"
     ]
    }
   ],
   "source": [
    "# Predict on 1000 random sentences on test data and calculate the average BLEU score of these sentences.\n",
    "# https://www.nltk.org/_modules/nltk/translate/bleu_score.html\n",
    "\n",
    "rand_val = np.random.randint(0,len(validation),size=(1000))\n",
    "iter_val = validation.iloc[rand_val,:].apply(lambda x: bleu.sentence_bleu(x['english_out'][:-6],predict(x['italian'])),axis=1)\n",
    "print(\"BLEU score:\",np.sum(iter_val.values)/1000)"
   ]
  },
  {
   "cell_type": "markdown",
   "metadata": {
    "id": "CxWFDxZXLOfJ"
   },
   "source": [
    " "
   ]
  },
  {
   "cell_type": "markdown",
   "metadata": {
    "id": "yZhX3K9GLOfJ"
   },
   "source": [
    "## Task -2: Including Attention mechanisum"
   ]
  },
  {
   "cell_type": "markdown",
   "metadata": {
    "id": "Q3d7GeBMGbsJ"
   },
   "source": [
    "1. Use the preprocessed data from Task-1\n",
    "\n",
    "2. You have to implement an Encoder and Decoder architecture with  \n",
    "attention as discussed in the reference notebook.\n",
    "\n",
    "    * Encoder   - with 1 layer LSTM <br>\n",
    "    * Decoder   - with 1 layer LSTM<br>\n",
    "    * attention -  (Please refer the <a href= 'https://drive.google.com/file/d/1z_bnc-3aubKawbR6q8wyI6Mh5ho2R1aZ/view?usp=sharing'>**reference notebook**</a> to know more about the attention mechanism.)\n",
    "3. In Global attention, we have 3 types of scoring functions(as discussed in the reference notebook).\n",
    " As a part of this assignment **you need to create 3 models for each scoring function**\n",
    "<img src='https://i.imgur.com/iD2jZo3.png'>\n",
    "\n",
    "    * In model 1 you need to implemnt \"dot\" score function\n",
    "    * In model 2 you need to implemnt \"general\" score function\n",
    "    * In model 3 you need to implemnt \"concat\" score function.<br>\n",
    "    \n",
    " **Please do add the markdown titles for each model so that we can have a better look at the code and verify.**\n",
    "4. It is mandatory to train the model with simple model.fit() only, Donot train the model with custom GradientTape()\n",
    "\n",
    "5. Using attention weights, you can plot the attention plots, \n",
    "please plot those for 2-3 examples. You can check about those in <a href=\"https://www.tensorflow.org/tutorials/text/nmt_with_attention#translate\">this</a>\n",
    "\n",
    "6. The attention layer has to be written by yourself only. \n",
    "The main objective of this assignment is to read and implement a paper on yourself so please do it yourself.  \n",
    "\n",
    "7. Please implement the class **onestepdecoder** as mentioned in the assignment instructions.\n",
    "\n",
    "8. You can use any tf.Keras highlevel API's to build and train the models. \n",
    " Check the reference notebook for better understanding.\n",
    "\n",
    "9. Use BLEU score as metric to evaluate your model. You can use any loss function you need.\n",
    "\n",
    "10. You have to use Tensorboard to plot the Graph, Scores and histograms of gradients. \n",
    "\n",
    "11. Resources:\n",
    "    a. Check the reference notebook\n",
    "    b. <a href=\"https://jalammar.github.io/visualizing-neural-machine-translation-mechanics-of-seq2seq-models-with-attention/\">Resource 1</a>\n",
    "    c. <a href=\"https://www.tensorflow.org/tutorials/text/nmt_with_attention\">Resource 2</a>\n",
    "    d. <a href=\"https://stackoverflow.com/questions/44238154/what-is-the-difference-between-luong-attention-and-bahdanau-attention#:~:text=Luong%20attention%20used%20top%20hidden,hidden%20state%20at%20time%20t.\">Resource 3</a>\n",
    "    "
   ]
  },
  {
   "cell_type": "markdown",
   "metadata": {
    "id": "PU4KIsGxLOfK"
   },
   "source": [
    "### <font color='blue'>**Implement custom encoder decoder and attention layers**</font>"
   ]
  },
  {
   "cell_type": "markdown",
   "metadata": {
    "id": "TMm3ADQDLOfK"
   },
   "source": [
    "<font color='blue'>**Encoder**</font>"
   ]
  },
  {
   "cell_type": "code",
   "execution_count": 21,
   "metadata": {
    "id": "Lx_5NA24KzRp"
   },
   "outputs": [],
   "source": [
    "class Encoder(tf.keras.Model):\n",
    "    '''\n",
    "    Encoder model -- That takes a input sequence and returns output sequence\n",
    "    '''\n",
    "\n",
    "    def __init__(self,inp_vocab_size,embedding_size,lstm_size,input_length):\n",
    "\n",
    "        #Initialize Embedding layer\n",
    "        #Intialize Encoder LSTM layer\n",
    "        super().__init__()\n",
    "        self.lstm_size = lstm_size\n",
    "\n",
    "        self.embedding = Embedding(input_dim=inp_vocab_size,output_dim=embedding_size,input_length=input_length)  \n",
    "        self.lstm = LSTM(lstm_size,return_state=True,return_sequences=True)\n",
    "\n",
    "\n",
    "    def call(self,input_sequence,states):\n",
    "      '''\n",
    "          This function takes a sequence input and the initial states of the encoder.\n",
    "          Pass the input_sequence input to the Embedding layer, Pass the embedding layer ouput to encoder_lstm\n",
    "          returns -- All encoder_outputs, last time steps hidden and cell state\n",
    "      '''\n",
    "      input_embedd = self.embedding(input_sequence)\n",
    "      self.lstm_output, self.lstm_state_h,self.lstm_state_c = self.lstm(input_embedd)\n",
    "      return self.lstm_output, self.lstm_state_h,self.lstm_state_c\n",
    "\n",
    "    \n",
    "    def initialize_states(self,batch_size):\n",
    "      '''\n",
    "      Given a batch size it will return intial hidden state and intial cell state.\n",
    "      If batch size is 32- Hidden state is zeros of size [32,lstm_units], cell state zeros is of size [32,lstm_units]\n",
    "      '''\n",
    "      \n",
    "      self.lstm_state_h = tf.zeros([batch_size,self.lstm_size ])\n",
    "      self.lstm_state_c = tf.zeros([batch_size,self.lstm_size ])\n",
    "      return [self.lstm_state_h,self.lstm_state_c]"
   ]
  },
  {
   "cell_type": "markdown",
   "metadata": {
    "id": "4ub9aN-hK244"
   },
   "source": [
    "<font color='cyan'>**Grader function - 1**</font>"
   ]
  },
  {
   "cell_type": "code",
   "execution_count": null,
   "metadata": {
    "colab": {
     "base_uri": "https://localhost:8080/"
    },
    "id": "wRoe65b9LB0D",
    "outputId": "de0f574d-fb1d-4f6f-9c40-6966e175982d"
   },
   "outputs": [
    {
     "name": "stdout",
     "output_type": "stream",
     "text": [
      "True\n"
     ]
    }
   ],
   "source": [
    "def grader_check_encoder():\n",
    "    \n",
    "    '''\n",
    "        vocab-size: Unique words of the input language,\n",
    "        embedding_size: output embedding dimension for each word after embedding layer,\n",
    "        lstm_size: Number of lstm units in encoder,\n",
    "        input_length: Length of the input sentence,\n",
    "        batch_size\n",
    "    '''\n",
    "    \n",
    "    vocab_size=10\n",
    "    embedding_size=20\n",
    "    lstm_size=32\n",
    "    input_length=10\n",
    "    batch_size=16\n",
    "    encoder=Encoder(vocab_size,embedding_size,lstm_size,input_length)\n",
    "    input_sequence=tf.random.uniform(shape=[batch_size,input_length],maxval=vocab_size,minval=0,dtype=tf.int32)\n",
    "    initial_state=encoder.initialize_states(batch_size)\n",
    "    encoder_output,state_h,state_c=encoder(input_sequence,initial_state)\n",
    "    \n",
    "    assert(encoder_output.shape==(batch_size,input_length,lstm_size) and state_h.shape==(batch_size,lstm_size) and state_c.shape==(batch_size,lstm_size))\n",
    "    return True\n",
    "print(grader_check_encoder())"
   ]
  },
  {
   "cell_type": "markdown",
   "metadata": {
    "id": "lXn278lhLYRM"
   },
   "source": [
    "<font color='blue'>**Attention**</font>"
   ]
  },
  {
   "cell_type": "code",
   "execution_count": 20,
   "metadata": {
    "id": "ab5SNdPZLlur"
   },
   "outputs": [],
   "source": [
    "#Reference: https://www.tensorflow.org/tutorials/text/nmt_with_attention#define_the_optimizer_and_the_loss_function\n",
    "\n",
    "class Attention(tf.keras.layers.Layer):\n",
    "  '''\n",
    "    Class the calculates score based on the scoring_function using Bahdanu attention mechanism.\n",
    "  '''\n",
    "  def __init__(self,scoring_function, att_units):\n",
    "    super().__init__()\n",
    "    self.scoring_function = scoring_function\n",
    "    self.att_units = att_units\n",
    "\n",
    "\n",
    "    # Please go through the reference notebook and research paper to complete the scoring functions\n",
    "\n",
    "    if self.scoring_function=='dot':\n",
    "      # Intialize variables needed for Dot score function here\n",
    "      self.score = 0\n",
    "      \n",
    "    if scoring_function == 'general':\n",
    "      # Intialize variables needed for General score function here\n",
    "      self.W1 = tf.keras.layers.Dense(self.att_units)\n",
    "      self.score = 0\n",
    "\n",
    "    elif scoring_function == 'concat':\n",
    "      # Intialize variables needed for Concat score function here\n",
    "      self.W1 = tf.keras.layers.Dense(self.att_units)\n",
    "      self.W2 = tf.keras.layers.Dense(self.att_units)\n",
    "      self.V = tf.keras.layers.Dense(1)\n",
    "      self.score = 0\n",
    "  \n",
    "  \n",
    "  def call(self,decoder_hidden_state,encoder_output):\n",
    "    '''\n",
    "      Attention mechanism takes two inputs current step -- decoder_hidden_state and all the encoder_outputs.\n",
    "      * Based on the scoring function we will find the score or similarity between decoder_hidden_state and encoder_output.\n",
    "        Multiply the score function with your encoder_outputs to get the context vector.\n",
    "        Function returns context vector and attention weights(softmax - scores)\n",
    "    '''\n",
    "    \n",
    "    if self.scoring_function == 'dot':\n",
    "        # Implement Dot score function here\n",
    "        query_with_time_axis = tf.expand_dims(decoder_hidden_state, 1)\n",
    "        self.score = tf.matmul(encoder_output, tf.transpose(query_with_time_axis, perm=[0,2,1]))\n",
    "       \n",
    "    elif self.scoring_function == 'general':\n",
    "        # Implement General score function here\n",
    "        query_with_time_axis = tf.expand_dims(decoder_hidden_state, 1)\n",
    "        self.score = tf.matmul(self.W1(encoder_output),tf.transpose(query_with_time_axis, perm=[0,2,1]))\n",
    "\n",
    "    elif self.scoring_function == 'concat':\n",
    "        # Implement General score function here\n",
    "        query_with_time_axis = tf.expand_dims(decoder_hidden_state, 1)\n",
    "        self.score = self.V(tf.nn.tanh(self.W1(query_with_time_axis) + self.W2(encoder_output)))\n",
    "        \n",
    "\n",
    "    attention_weights = tf.nn.softmax(self.score, axis=1)\n",
    "    context_vector = attention_weights * encoder_output\n",
    "    context_vector = tf.reduce_sum(context_vector, axis=1)   \n",
    "    \n",
    "    return context_vector, attention_weights\n",
    "    "
   ]
  },
  {
   "cell_type": "markdown",
   "metadata": {
    "id": "ExQDlxI9LuqK"
   },
   "source": [
    "<font color='cyan'>**Grader function - 2**</font>"
   ]
  },
  {
   "cell_type": "code",
   "execution_count": null,
   "metadata": {
    "colab": {
     "base_uri": "https://localhost:8080/"
    },
    "id": "51x50h_TLrl9",
    "outputId": "4530cfa1-0256-488d-ae49-7a640d06c7fb"
   },
   "outputs": [
    {
     "name": "stdout",
     "output_type": "stream",
     "text": [
      "True\n",
      "True\n",
      "True\n"
     ]
    }
   ],
   "source": [
    "def grader_check_attention(scoring_fun):\n",
    "    \n",
    "    ''' \n",
    "        att_units: Used in matrix multiplications for scoring functions,\n",
    "        input_length: Length of the input sentence,\n",
    "        batch_size\n",
    "    '''\n",
    "    \n",
    "    input_length=10\n",
    "    batch_size=16\n",
    "    att_units=32\n",
    "    \n",
    "    state_h=tf.random.uniform(shape=[batch_size,att_units])\n",
    "    encoder_output=tf.random.uniform(shape=[batch_size,input_length,att_units])\n",
    "    attention=Attention(scoring_fun,att_units)\n",
    "    context_vector,attention_weights=attention(state_h,encoder_output)\n",
    "    assert(context_vector.shape==(batch_size,att_units) and attention_weights.shape==(batch_size,input_length,1))\n",
    "    return True\n",
    "print(grader_check_attention('dot'))\n",
    "print(grader_check_attention('general'))\n",
    "print(grader_check_attention('concat'))"
   ]
  },
  {
   "cell_type": "markdown",
   "metadata": {
    "id": "ic-FNEbfL2DN"
   },
   "source": [
    "<font color='blue'>**OneStepDecoder**</font>"
   ]
  },
  {
   "cell_type": "code",
   "execution_count": 19,
   "metadata": {
    "id": "Kc8m7lmOL097"
   },
   "outputs": [],
   "source": [
    "#Reference: https://datascience.stackexchange.com/questions/64433/symbolicexception-inputs-to-eager-execution-function-cannot-be-keras-symbolic-t\n",
    "\n",
    "class One_Step_Decoder(tf.keras.Model):\n",
    "  def __init__(self,tar_vocab_size, embedding_dim, input_length, dec_units ,score_fun ,att_units):\n",
    "\n",
    "      # Initialize decoder embedding layer, LSTM and any other objects needed\n",
    "      super().__init__()\n",
    "      self.tar_vocab_size = tar_vocab_size\n",
    "      self.embedding_dim = embedding_dim\n",
    "      self.input_length = input_length\n",
    "      self.dec_units = dec_units\n",
    "      self.score_fun = score_fun\n",
    "      self.att_units = att_units\n",
    "      self.attention = Attention(self.score_fun,self.att_units)\n",
    "      self.embedding = Embedding(input_dim=self.tar_vocab_size, output_dim=self.embedding_dim, input_length=self.input_length,mask_zero=True)\n",
    "      self.lstm = LSTM(units=self.dec_units,return_sequences=True,return_state=True)\n",
    "      self.dense = Dense(self.tar_vocab_size)\n",
    "\n",
    "\n",
    "\n",
    "  def call(self,input_to_decoder, encoder_output, state_h,state_c):\n",
    "    '''\n",
    "        One step decoder mechanisim step by step:\n",
    "      A. Pass the input_to_decoder to the embedding layer and then get the output(batch_size,1,embedding_dim)\n",
    "      B. Using the encoder_output and decoder hidden state, compute the context vector.\n",
    "      C. Concat the context vector with the step A output\n",
    "      D. Pass the Step-C output to LSTM/GRU and get the decoder output and states(hidden and cell state)\n",
    "      E. Pass the decoder output to dense layer(vocab size) and store the result into output.\n",
    "      F. Return the states from step D, output from Step E, attention weights from Step -B\n",
    "    '''\n",
    "    output_embedding = self.embedding(input_to_decoder)\n",
    "    context_vector,attention_weights = self.attention(state_h,encoder_output)\n",
    "    conc_vec = tf.concat([tf.expand_dims(context_vector,1),output_embedding], axis=-1)\n",
    "    lstm_out, lstm_h, lstm_c = self.lstm(conc_vec)\n",
    "    decoder_output = self.dense(lstm_out)\n",
    "\n",
    "    return tf.squeeze(decoder_output), lstm_h, lstm_c, attention_weights, context_vector \n",
    "    \n",
    "\n"
   ]
  },
  {
   "cell_type": "markdown",
   "metadata": {
    "id": "R_I8I4EIMAXq"
   },
   "source": [
    "<font color='cyan'>**Grader function - 3**</font>"
   ]
  },
  {
   "cell_type": "code",
   "execution_count": null,
   "metadata": {
    "colab": {
     "base_uri": "https://localhost:8080/"
    },
    "id": "uLEXhChnMC1k",
    "outputId": "cb2e06fa-81ff-4db8-a125-2816aba97f6a"
   },
   "outputs": [
    {
     "name": "stdout",
     "output_type": "stream",
     "text": [
      "True\n",
      "True\n",
      "True\n"
     ]
    }
   ],
   "source": [
    "def grader_onestepdecoder(score_fun):\n",
    "    \n",
    "    '''\n",
    "        tar_vocab_size: Unique words of the target language,\n",
    "        embedding_dim: output embedding dimension for each word after embedding layer,\n",
    "        dec_units: Number of lstm units in decoder,\n",
    "        att_units: Used in matrix multiplications for scoring functions in attention class,\n",
    "        input_length: Length of the target sentence,\n",
    "        batch_size\n",
    "        \n",
    "    \n",
    "    '''\n",
    "    \n",
    "    tar_vocab_size=13 \n",
    "    embedding_dim=12 \n",
    "    input_length=10\n",
    "    dec_units=16 \n",
    "    att_units=16\n",
    "    batch_size=32\n",
    "    onestepdecoder=One_Step_Decoder(tar_vocab_size, embedding_dim, input_length, dec_units ,score_fun ,att_units)\n",
    "    input_to_decoder=tf.random.uniform(shape=(batch_size,1),maxval=10,minval=0,dtype=tf.int32)\n",
    "    encoder_output=tf.random.uniform(shape=[batch_size,input_length,dec_units])\n",
    "    state_h=tf.random.uniform(shape=[batch_size,dec_units])\n",
    "    state_c=tf.random.uniform(shape=[batch_size,dec_units])\n",
    "    output,state_h,state_c,attention_weights,context_vector=onestepdecoder(input_to_decoder,encoder_output,state_h,state_c)\n",
    "    assert(output.shape==(batch_size,tar_vocab_size))\n",
    "    assert(state_h.shape==(batch_size,dec_units))\n",
    "    assert(state_c.shape==(batch_size,dec_units))\n",
    "    assert(attention_weights.shape==(batch_size,input_length,1))\n",
    "    assert(context_vector.shape==(batch_size,dec_units))\n",
    "    return True\n",
    "    \n",
    "print(grader_onestepdecoder('dot'))\n",
    "print(grader_onestepdecoder('general'))\n",
    "print(grader_onestepdecoder('concat'))\n",
    "    "
   ]
  },
  {
   "cell_type": "markdown",
   "metadata": {
    "id": "6FHrurjUMGAi"
   },
   "source": [
    "<font color='blue'>**Decoder**</font>"
   ]
  },
  {
   "cell_type": "code",
   "execution_count": 22,
   "metadata": {
    "id": "NV-x31rj6Hc4"
   },
   "outputs": [],
   "source": [
    "#Reference: https://github.com/Douboo/tf_env_debug/blob/master/custom_layers_and_model_subclassing_API.ipynb\n",
    "\n",
    "class Decoder(tf.keras.Model):\n",
    "    def __init__(self,out_vocab_size, embedding_dim, input_length, dec_units ,score_fun ,att_units):\n",
    "      #Intialize necessary variables and create an object from the class onestepdecoder\n",
    "      super().__init__()\n",
    "      self.tar_vocab_size = out_vocab_size\n",
    "      self.embedding_dim = embedding_dim\n",
    "      self.input_length = input_length\n",
    "      self.dec_units = dec_units\n",
    "      self.score_fun = score_fun\n",
    "      self.att_units = att_units\n",
    "      self.onestepdecoder = One_Step_Decoder(self.tar_vocab_size, self.embedding_dim, self.input_length, self.dec_units , self.score_fun , self.att_units)\n",
    "\n",
    "\n",
    "    def call(self, input_to_decoder,encoder_output,decoder_hidden_state,decoder_cell_state ):\n",
    "\n",
    "        #Initialize an empty Tensor array, that will store the outputs at each and every time step\n",
    "        #Create a tensor array as shown in the reference notebook\n",
    "        array = tf.TensorArray(tf.float32, size=20)\n",
    "        #Iterate till the length of the decoder input\n",
    "            # Call onestepdecoder for each token in decoder_input\n",
    "            # Store the output in tensorarray\n",
    "        # Return the tensor array\n",
    "        for i in range(20):\n",
    "          output,state_h,state_c,attention_weights,context_vector=self.onestepdecoder(input_to_decoder[:,i:i+1],encoder_output,decoder_hidden_state,decoder_cell_state)  \n",
    "          array = array.write(i,output)\n",
    "        array = tf.transpose(array.stack(), [1, 0, 2])\n",
    "        \n",
    "        return array \n",
    "        \n",
    "    "
   ]
  },
  {
   "cell_type": "markdown",
   "metadata": {
    "id": "eOZIU9Yq3BJB"
   },
   "source": [
    "The value 20 has been hardcoded specifically during training of the model because input_to_decoder.shape[1] was returning None. "
   ]
  },
  {
   "cell_type": "markdown",
   "metadata": {
    "id": "FxrL-P8bMJH6"
   },
   "source": [
    "<font color='cyan'>**Grader function - 4**</font>"
   ]
  },
  {
   "cell_type": "code",
   "execution_count": null,
   "metadata": {
    "colab": {
     "base_uri": "https://localhost:8080/"
    },
    "id": "rtbx6onFMJXb",
    "outputId": "569236c7-434e-46d3-ad1a-13a853165467"
   },
   "outputs": [
    {
     "name": "stdout",
     "output_type": "stream",
     "text": [
      "True\n",
      "True\n",
      "True\n"
     ]
    }
   ],
   "source": [
    "def grader_decoder(score_fun):\n",
    "    \n",
    "    '''\n",
    "        out_vocab_size: Unique words of the target language,\n",
    "        embedding_dim: output embedding dimension for each word after embedding layer,\n",
    "        dec_units: Number of lstm units in decoder,\n",
    "        att_units: Used in matrix multiplications for scoring functions in attention class,\n",
    "        input_length: Length of the target sentence,\n",
    "        batch_size\n",
    "        \n",
    "    \n",
    "    '''\n",
    "    \n",
    "    out_vocab_size=13 \n",
    "    embedding_dim=12 \n",
    "    input_length=11\n",
    "    dec_units=16 \n",
    "    att_units=16\n",
    "    batch_size=32\n",
    "    \n",
    "    target_sentences=tf.random.uniform(shape=(batch_size,input_length),maxval=10,minval=0,dtype=tf.int32)\n",
    "    encoder_output=tf.random.uniform(shape=[batch_size,input_length,dec_units])\n",
    "    state_h=tf.random.uniform(shape=[batch_size,dec_units])\n",
    "    state_c=tf.random.uniform(shape=[batch_size,dec_units])\n",
    "    \n",
    "    decoder=Decoder(out_vocab_size, embedding_dim, input_length, dec_units ,score_fun ,att_units)\n",
    "    output=decoder(target_sentences,encoder_output, state_h, state_c)\n",
    "    assert(output.shape==(batch_size,input_length,out_vocab_size))\n",
    "    return True\n",
    "print(grader_decoder('dot'))\n",
    "print(grader_decoder('general'))\n",
    "print(grader_decoder('concat'))"
   ]
  },
  {
   "cell_type": "markdown",
   "metadata": {
    "id": "fC1T1EOoMTqC"
   },
   "source": [
    "<font color='blue'>**Encoder Decoder model**</font>"
   ]
  },
  {
   "cell_type": "code",
   "execution_count": 16,
   "metadata": {
    "id": "FfqBIe20MT3D"
   },
   "outputs": [],
   "source": [
    "class encoder_decoder(tf.keras.Model):\n",
    "  def __init__(self,*params):\n",
    "    super().__init__()\n",
    "    #Intialize objects from encoder decoder\n",
    "    self.inp_vocab_size = params[0]\n",
    "    self.embedding_size = params[1]\n",
    "    self.lstm_size = params[2]\n",
    "    self.input_length_enc = params[3]\n",
    "    self.input_length_dec = params[4]\n",
    "    self.out_vocab_size = params[5]\n",
    "    self.score_fun = params[6]\n",
    "    self.att_units = params[7]\n",
    "    self.encoder = Encoder(inp_vocab_size=self.inp_vocab_size+1,embedding_size=self.embedding_size[0],lstm_size=self.lstm_size,input_length=self.input_length_enc)\n",
    "    self.decoder = Decoder(out_vocab_size=self.out_vocab_size+1,embedding_dim=self.embedding_size[1],dec_units=self.lstm_size,input_length=self.input_length_dec,score_fun=self.score_fun,att_units=self.att_units)\n",
    "\n",
    "  def call(self,data):\n",
    "    #Intialize encoder states, Pass the encoder_sequence to the embedding layer\n",
    "    # Decoder initial states are encoder final states, Initialize it accordingly\n",
    "    # Pass the decoder sequence,encoder_output,decoder states to Decoder\n",
    "    # return the decoder output\n",
    "    self.input_data = data[0]\n",
    "    self.output_data = data[1]\n",
    "    initial_state = self.encoder.initialize_states(1024)\n",
    "    encoder_output,encoder_final_state_h,encoder_final_state_c = self.encoder(self.input_data,initial_state) \n",
    "    decoder_output = self.decoder(self.output_data,encoder_output,encoder_final_state_h,encoder_final_state_c)\n",
    "    \n",
    "    return decoder_output\n",
    "\n",
    "\n"
   ]
  },
  {
   "cell_type": "markdown",
   "metadata": {
    "id": "WVRxB-FDMJWL"
   },
   "source": [
    "<font color='blue'>**Custom loss function**</font>"
   ]
  },
  {
   "cell_type": "code",
   "execution_count": 17,
   "metadata": {
    "id": "QY_3izrXMs8y"
   },
   "outputs": [],
   "source": [
    "loss_object = tf.keras.losses.SparseCategoricalCrossentropy(from_logits=True, reduction='none')\n",
    "\n",
    "def custom_lossfunction(targets,logits):\n",
    "\n",
    "  # Custom loss function that will not consider the loss for padded zeros.\n",
    "  # Refer https://www.tensorflow.org/tutorials/text/nmt_with_attention#define_the_optimizer_and_the_loss_function\n",
    "  \n",
    "  mask = tf.math.logical_not(tf.math.equal(targets, 0))\n",
    "  loss_ = loss_object(targets,logits)\n",
    "\n",
    "  mask = tf.cast(mask, dtype=loss_.dtype)\n",
    "  loss_ *= mask\n",
    "\n",
    "  return tf.reduce_mean(loss_)"
   ]
  },
  {
   "cell_type": "markdown",
   "metadata": {
    "id": "2QlbWAqNNlqe"
   },
   "source": [
    "<font color='blue'>**Training**</font>"
   ]
  },
  {
   "cell_type": "markdown",
   "metadata": {
    "id": "wqtZUQF2NuZE"
   },
   "source": [
    "Implement dot function here."
   ]
  },
  {
   "cell_type": "code",
   "execution_count": null,
   "metadata": {
    "colab": {
     "base_uri": "https://localhost:8080/"
    },
    "id": "fgyWwZWeMxGQ",
    "outputId": "fb6159e8-9abb-4348-d2d6-ad1dcd100455"
   },
   "outputs": [
    {
     "name": "stderr",
     "output_type": "stream",
     "text": [
      "/usr/local/lib/python3.7/dist-packages/tensorflow/python/keras/engine/training.py:1844: UserWarning: `Model.fit_generator` is deprecated and will be removed in a future version. Please use `Model.fit`, which supports generators.\n",
      "  warnings.warn('`Model.fit_generator` is deprecated and '\n"
     ]
    },
    {
     "name": "stdout",
     "output_type": "stream",
     "text": [
      "Epoch 1/20\n",
      "269/269 [==============================] - 111s 312ms/step - loss: 2.1253 - val_loss: 1.6707\n",
      "Epoch 2/20\n",
      "269/269 [==============================] - 77s 286ms/step - loss: 1.6252 - val_loss: 1.4590\n",
      "Epoch 3/20\n",
      "269/269 [==============================] - 77s 286ms/step - loss: 1.4379 - val_loss: 1.3812\n",
      "Epoch 4/20\n",
      "269/269 [==============================] - 77s 285ms/step - loss: 1.3723 - val_loss: 1.3473\n",
      "Epoch 5/20\n",
      "269/269 [==============================] - 77s 287ms/step - loss: 1.3389 - val_loss: 1.3269\n",
      "Epoch 6/20\n",
      "269/269 [==============================] - 77s 287ms/step - loss: 1.3166 - val_loss: 1.3133\n",
      "Epoch 7/20\n",
      "269/269 [==============================] - 78s 288ms/step - loss: 1.3018 - val_loss: 1.3031\n",
      "Epoch 8/20\n",
      "269/269 [==============================] - 77s 285ms/step - loss: 1.2913 - val_loss: 1.2959\n",
      "Epoch 9/20\n",
      "269/269 [==============================] - 77s 285ms/step - loss: 1.2799 - val_loss: 1.2901\n",
      "Epoch 10/20\n",
      "269/269 [==============================] - 77s 284ms/step - loss: 1.2742 - val_loss: 1.2850\n",
      "Epoch 11/20\n",
      "269/269 [==============================] - 77s 286ms/step - loss: 1.2567 - val_loss: 1.2163\n",
      "Epoch 12/20\n",
      "269/269 [==============================] - 76s 284ms/step - loss: 1.1784 - val_loss: 1.1293\n",
      "Epoch 13/20\n",
      "269/269 [==============================] - 77s 287ms/step - loss: 1.0796 - val_loss: 1.0272\n",
      "Epoch 14/20\n",
      "269/269 [==============================] - 77s 286ms/step - loss: 0.9783 - val_loss: 0.9500\n",
      "Epoch 15/20\n",
      "269/269 [==============================] - 77s 288ms/step - loss: 0.8973 - val_loss: 0.8868\n",
      "Epoch 16/20\n",
      "269/269 [==============================] - 77s 286ms/step - loss: 0.8244 - val_loss: 0.8318\n",
      "Epoch 17/20\n",
      "269/269 [==============================] - 78s 289ms/step - loss: 0.7633 - val_loss: 0.7812\n",
      "Epoch 18/20\n",
      "269/269 [==============================] - 77s 286ms/step - loss: 0.7046 - val_loss: 0.7357\n",
      "Epoch 19/20\n",
      "269/269 [==============================] - 77s 286ms/step - loss: 0.6526 - val_loss: 0.6963\n",
      "Epoch 20/20\n",
      "269/269 [==============================] - 77s 285ms/step - loss: 0.6039 - val_loss: 0.6628\n",
      "Model: \"encoder_decoder_4\"\n",
      "_________________________________________________________________\n",
      "Layer (type)                 Output Shape              Param #   \n",
      "=================================================================\n",
      "encoder_5 (Encoder)          multiple                  3408000   \n",
      "_________________________________________________________________\n",
      "decoder_3 (Decoder)          multiple                  2547579   \n",
      "=================================================================\n",
      "Total params: 5,955,579\n",
      "Trainable params: 5,955,579\n",
      "Non-trainable params: 0\n",
      "_________________________________________________________________\n"
     ]
    }
   ],
   "source": [
    "# Implement teacher forcing while training your model. You can do it two ways.\n",
    "# Prepare your data, encoder_input,decoder_input and decoder_output\n",
    "# if decoder input is \n",
    "# <start> Hi how are you\n",
    "# decoder output should be\n",
    "# Hi How are you <end>\n",
    "# i.e when you have send <start>-- decoder predicted Hi, 'Hi' decoder predicted 'How' .. e.t.c\n",
    "\n",
    "# or\n",
    " \n",
    "# model.fit([train_ita,train_eng],train_eng[:,1:]..)\n",
    "# Note: If you follow this approach some grader functions might return false and this is fine.\n",
    "\n",
    "model2_dot = encoder_decoder(len(tknizer_ita.word_index),(128,128),64,20,20,len(tknizer_eng.word_index),'dot',64)\n",
    "optimizer = tf.keras.optimizers.Adam(0.005)\n",
    "model2_dot.compile(optimizer=optimizer,loss=custom_lossfunction)\n",
    "train_steps=train.shape[0]//1024\n",
    "valid_steps=validation.shape[0]//1024\n",
    "model2_dot.fit_generator(train_dataloader, steps_per_epoch=train_steps, epochs=20, validation_data=test_dataloader, validation_steps=valid_steps)\n",
    "model2_dot.summary()"
   ]
  },
  {
   "cell_type": "code",
   "execution_count": null,
   "metadata": {
    "colab": {
     "base_uri": "https://localhost:8080/"
    },
    "id": "gp2tdCzjrxZH",
    "outputId": "a35c6651-6e22-45ce-e506-833edf1ad21a"
   },
   "outputs": [
    {
     "name": "stderr",
     "output_type": "stream",
     "text": [
      "/usr/local/lib/python3.7/dist-packages/tensorflow/python/keras/engine/training.py:1844: UserWarning: `Model.fit_generator` is deprecated and will be removed in a future version. Please use `Model.fit`, which supports generators.\n",
      "  warnings.warn('`Model.fit_generator` is deprecated and '\n"
     ]
    },
    {
     "name": "stdout",
     "output_type": "stream",
     "text": [
      "Epoch 1/5\n",
      "269/269 [==============================] - 77s 287ms/step - loss: 0.5549 - val_loss: 0.6290\n",
      "Epoch 2/5\n",
      "269/269 [==============================] - 77s 286ms/step - loss: 0.5194 - val_loss: 0.6059\n",
      "Epoch 3/5\n",
      "269/269 [==============================] - 77s 285ms/step - loss: 0.4885 - val_loss: 0.5855\n",
      "Epoch 4/5\n",
      "269/269 [==============================] - 77s 287ms/step - loss: 0.4617 - val_loss: 0.5685\n",
      "Epoch 5/5\n",
      "269/269 [==============================] - 76s 284ms/step - loss: 0.4383 - val_loss: 0.5543\n"
     ]
    },
    {
     "data": {
      "text/plain": [
       "<tensorflow.python.keras.callbacks.History at 0x7f8e27d28d10>"
      ]
     },
     "execution_count": 89,
     "metadata": {
      "tags": []
     },
     "output_type": "execute_result"
    }
   ],
   "source": [
    "model2_dot.fit_generator(train_dataloader, steps_per_epoch=train_steps, epochs=5, validation_data=test_dataloader, validation_steps=valid_steps)"
   ]
  },
  {
   "cell_type": "code",
   "execution_count": null,
   "metadata": {
    "colab": {
     "base_uri": "https://localhost:8080/"
    },
    "id": "Af4_Sg9btdDH",
    "outputId": "89b6c813-e98e-4665-e814-d24f38baf00f"
   },
   "outputs": [
    {
     "name": "stderr",
     "output_type": "stream",
     "text": [
      "/usr/local/lib/python3.7/dist-packages/tensorflow/python/keras/engine/training.py:1844: UserWarning: `Model.fit_generator` is deprecated and will be removed in a future version. Please use `Model.fit`, which supports generators.\n",
      "  warnings.warn('`Model.fit_generator` is deprecated and '\n"
     ]
    },
    {
     "name": "stdout",
     "output_type": "stream",
     "text": [
      "Epoch 1/5\n",
      "269/269 [==============================] - 77s 286ms/step - loss: 0.4175 - val_loss: 0.5434\n",
      "Epoch 2/5\n",
      "269/269 [==============================] - 78s 290ms/step - loss: 0.3999 - val_loss: 0.5318\n",
      "Epoch 3/5\n",
      "269/269 [==============================] - 77s 288ms/step - loss: 0.3836 - val_loss: 0.5238\n",
      "Epoch 4/5\n",
      "269/269 [==============================] - 77s 286ms/step - loss: 0.3694 - val_loss: 0.5175\n",
      "Epoch 5/5\n",
      "269/269 [==============================] - 77s 286ms/step - loss: 0.3566 - val_loss: 0.5103\n"
     ]
    },
    {
     "data": {
      "text/plain": [
       "<tensorflow.python.keras.callbacks.History at 0x7f904cb3ff50>"
      ]
     },
     "execution_count": 91,
     "metadata": {
      "tags": []
     },
     "output_type": "execute_result"
    }
   ],
   "source": [
    "model2_dot.fit_generator(train_dataloader, steps_per_epoch=train_steps, epochs=5, validation_data=test_dataloader, validation_steps=valid_steps)"
   ]
  },
  {
   "cell_type": "markdown",
   "metadata": {
    "id": "6DpC9zlzMcXp"
   },
   "source": [
    "## <font color='blue'>**Inference**</font>"
   ]
  },
  {
   "cell_type": "markdown",
   "metadata": {
    "id": "Z5NhESYyMW_t"
   },
   "source": [
    "<font color='blue'>**Plot attention weights**</font>"
   ]
  },
  {
   "cell_type": "code",
   "execution_count": 26,
   "metadata": {
    "id": "pkEY7SsBMtrC"
   },
   "outputs": [],
   "source": [
    "import matplotlib.pyplot as plt\n",
    "import matplotlib.ticker as ticker\n",
    "\n",
    "\n",
    "\n",
    "def plot_attention(attention, sentence, predicted_sentence):\n",
    "  #Refer: https://www.tensorflow.org/tutorials/text/nmt_with_attention#translate\n",
    "\n",
    "  fig = plt.figure(figsize=(10,10))\n",
    "  ax = fig.add_subplot(1, 1, 1)\n",
    "  ax.matshow(attention, cmap='viridis')\n",
    "\n",
    "  fontdict = {'fontsize': 14}\n",
    "\n",
    "  ax.set_xticklabels([''] + sentence, fontdict=fontdict, rotation=90)\n",
    "  ax.set_yticklabels([''] + predicted_sentence, fontdict=fontdict)\n",
    "\n",
    "  ax.xaxis.set_major_locator(ticker.MultipleLocator(1))\n",
    "  ax.yaxis.set_major_locator(ticker.MultipleLocator(1))\n",
    "\n",
    "  plt.show()\n"
   ]
  },
  {
   "cell_type": "markdown",
   "metadata": {
    "id": "e1IhdBrgQYJr"
   },
   "source": [
    "<font color='blue'>**Predict the sentence translation**</font>"
   ]
  },
  {
   "cell_type": "code",
   "execution_count": null,
   "metadata": {
    "id": "MP3kLZoPMvSu"
   },
   "outputs": [],
   "source": [
    "def predict_dot(input_sentence):\n",
    "\n",
    "  '''\n",
    "  A. Given input sentence, convert the sentence into integers using tokenizer used earlier\n",
    "  B. Pass the input_sequence to encoder. we get encoder_outputs, last time step hidden and cell state\n",
    "  C. Initialize index of <start> as input to decoder. and encoder final states as input_states to onestepdecoder.\n",
    "  D. till we reach max_length of decoder or till the model predicted word <end>:\n",
    "         predictions, input_states, attention_weights = model.layers[1].onestepdecoder(input_to_decoder, encoder_output, input_states)\n",
    "         Save the attention weights\n",
    "         And get the word using the tokenizer(word index) and then store it in a string.\n",
    "  E. Call plot_attention(#params)\n",
    "  F. Return the predicted sentence\n",
    "  '''\n",
    "  token_sequence = tknizer_ita.texts_to_sequences([input_sentence])\n",
    "  pad_seq = pad_sequences(token_sequence, padding='post', maxlen=20)\n",
    "\n",
    "  initial_state = model2_dot.layers[0].initialize_states(1024)\n",
    "  encoder_output,hidden_state_enc,cell_state_enc = model2_dot.layers[0](pad_seq,initial_state)\n",
    "  state_values = [hidden_state_enc,cell_state_enc]\n",
    "  cur_vec = tf.expand_dims([tknizer_eng.word_index['<start>']],0)\n",
    "\n",
    "  global attention_plot\n",
    "  attention_plot = np.zeros((20, 20))\n",
    "  result = ''\n",
    "  predictions = []\n",
    "\n",
    "  for f in range(20):\n",
    "    output,state_h,state_c,attention_weights,context_vector = model2_dot.layers[1].onestepdecoder(cur_vec, encoder_output, state_values[0],state_values[1])\n",
    "    state_values = [state_h,state_c]\n",
    "\n",
    "    attention_weights = tf.reshape(attention_weights, (-1, ))\n",
    "    attention_plot[f] = attention_weights.numpy()\n",
    "    \n",
    "    predicted_id = tf.argmax(output).numpy()\n",
    "\n",
    "    if tknizer_eng.index_word[predicted_id] == '<end>':\n",
    "      break\n",
    "    \n",
    "    cur_vec = tf.expand_dims([predicted_id], 0)\n",
    "    result += tknizer_eng.index_word[predicted_id] + ' '\n",
    "\n",
    "  return result.strip()\n",
    "\n",
    "\n"
   ]
  },
  {
   "cell_type": "code",
   "execution_count": null,
   "metadata": {
    "colab": {
     "base_uri": "https://localhost:8080/",
     "height": 658
    },
    "id": "UHQQV4sgwVUg",
    "outputId": "7489a856-c193-4d7f-fc27-3e88513fe2ac"
   },
   "outputs": [
    {
     "data": {
      "image/png": "[encoded data removed]",
      "text/plain": [
       "<Figure size 720x720 with 1 Axes>"
      ]
     },
     "metadata": {
      "needs_background": "light",
      "tags": []
     },
     "output_type": "display_data"
    }
   ],
   "source": [
    "input_sentence = validation.iloc[0,:]['italian']\n",
    "result = predict_dot(input_sentence)\n",
    "attention_plot = attention_plot[:len(result.split(' ')), :len(input_sentence.split(' '))]\n",
    "plot_attention(attention_plot, input_sentence.split(' '), result.strip().split(' '))"
   ]
  },
  {
   "cell_type": "markdown",
   "metadata": {
    "id": "jmxIVOOQPWMu"
   },
   "source": [
    "<font color='blue'>**Calculate BLEU score**</font>"
   ]
  },
  {
   "cell_type": "code",
   "execution_count": null,
   "metadata": {
    "colab": {
     "base_uri": "https://localhost:8080/"
    },
    "id": "lvZe0Md4vnM9",
    "outputId": "c38ae988-5b7c-425a-d9c8-fa775e408ac1"
   },
   "outputs": [
    {
     "name": "stdout",
     "output_type": "stream",
     "text": [
      "BLEU score: 0.7563061593669899\n"
     ]
    }
   ],
   "source": [
    "#Create an object of your custom model.\n",
    "#Compile and train your model on dot scoring function.\n",
    "# Visualize few sentences randomly in Test data\n",
    "# Predict on 1000 random sentences on test data and calculate the average BLEU score of these sentences.\n",
    "# https://www.nltk.org/_modules/nltk/translate/bleu_score.html\n",
    "\n",
    "rand_val = np.random.randint(0,len(validation),size=(1000))\n",
    "iter_val = validation.iloc[rand_val,:].apply(lambda x: bleu.sentence_bleu(x['english_out'][:-6],predict_dot(x['italian'])),axis=1)\n",
    "print(\"BLEU score:\",np.sum(iter_val.values)/1000)"
   ]
  },
  {
   "cell_type": "markdown",
   "metadata": {
    "id": "SWg2ferDQvT3"
   },
   "source": [
    "<font color='blue'>**Repeat the same steps for General scoring function**</font>"
   ]
  },
  {
   "cell_type": "code",
   "execution_count": 23,
   "metadata": {
    "colab": {
     "base_uri": "https://localhost:8080/"
    },
    "id": "4Rh9_w79M5JO",
    "outputId": "54e85261-8038-4e61-d6c0-24efe53c734e"
   },
   "outputs": [
    {
     "name": "stdout",
     "output_type": "stream",
     "text": [
      "Epoch 1/30\n",
      "269/269 [==============================] - 111s 314ms/step - loss: 2.1263 - val_loss: 1.6356\n",
      "Epoch 2/30\n",
      "269/269 [==============================] - 79s 292ms/step - loss: 1.5772 - val_loss: 1.4396\n",
      "Epoch 3/30\n",
      "269/269 [==============================] - 79s 294ms/step - loss: 1.4232 - val_loss: 1.3719\n",
      "Epoch 4/30\n",
      "269/269 [==============================] - 78s 291ms/step - loss: 1.3606 - val_loss: 1.3406\n",
      "Epoch 5/30\n",
      "269/269 [==============================] - 78s 290ms/step - loss: 1.3307 - val_loss: 1.3221\n",
      "Epoch 6/30\n",
      "269/269 [==============================] - 78s 290ms/step - loss: 1.3117 - val_loss: 1.3099\n",
      "Epoch 7/30\n",
      "269/269 [==============================] - 78s 290ms/step - loss: 1.2982 - val_loss: 1.3006\n",
      "Epoch 8/30\n",
      "269/269 [==============================] - 78s 291ms/step - loss: 1.2872 - val_loss: 1.2936\n",
      "Epoch 9/30\n",
      "269/269 [==============================] - 78s 292ms/step - loss: 1.2790 - val_loss: 1.2731\n",
      "Epoch 10/30\n",
      "269/269 [==============================] - 78s 291ms/step - loss: 1.2420 - val_loss: 1.1949\n",
      "Epoch 11/30\n",
      "269/269 [==============================] - 78s 290ms/step - loss: 1.1509 - val_loss: 1.0921\n",
      "Epoch 12/30\n",
      "269/269 [==============================] - 78s 290ms/step - loss: 1.0456 - val_loss: 1.0010\n",
      "Epoch 13/30\n",
      "269/269 [==============================] - 78s 290ms/step - loss: 0.9496 - val_loss: 0.9214\n",
      "Epoch 14/30\n",
      "269/269 [==============================] - 78s 291ms/step - loss: 0.8675 - val_loss: 0.8561\n",
      "Epoch 15/30\n",
      "269/269 [==============================] - 78s 291ms/step - loss: 0.7945 - val_loss: 0.7995\n",
      "Epoch 16/30\n",
      "269/269 [==============================] - 78s 290ms/step - loss: 0.7321 - val_loss: 0.7511\n",
      "Epoch 17/30\n",
      "269/269 [==============================] - 78s 291ms/step - loss: 0.6714 - val_loss: 0.7094\n",
      "Epoch 18/30\n",
      "269/269 [==============================] - 78s 290ms/step - loss: 0.6225 - val_loss: 0.6753\n",
      "Epoch 19/30\n",
      "269/269 [==============================] - 78s 291ms/step - loss: 0.5785 - val_loss: 0.6435\n",
      "Epoch 20/30\n",
      "269/269 [==============================] - 78s 290ms/step - loss: 0.5408 - val_loss: 0.6189\n",
      "Epoch 21/30\n",
      "269/269 [==============================] - 78s 290ms/step - loss: 0.5062 - val_loss: 0.5968\n",
      "Epoch 22/30\n",
      "269/269 [==============================] - 78s 291ms/step - loss: 0.4771 - val_loss: 0.5798\n",
      "Epoch 23/30\n",
      "269/269 [==============================] - 78s 290ms/step - loss: 0.4504 - val_loss: 0.5648\n",
      "Epoch 24/30\n",
      "269/269 [==============================] - 78s 291ms/step - loss: 0.4307 - val_loss: 0.5523\n",
      "Epoch 25/30\n",
      "269/269 [==============================] - 78s 290ms/step - loss: 0.4106 - val_loss: 0.5423\n",
      "Epoch 26/30\n",
      "269/269 [==============================] - 78s 289ms/step - loss: 0.3934 - val_loss: 0.5331\n",
      "Epoch 27/30\n",
      "269/269 [==============================] - 78s 291ms/step - loss: 0.3772 - val_loss: 0.5255\n",
      "Epoch 28/30\n",
      "269/269 [==============================] - 78s 290ms/step - loss: 0.3627 - val_loss: 0.5197\n",
      "Epoch 29/30\n",
      "269/269 [==============================] - 78s 290ms/step - loss: 0.3496 - val_loss: 0.5141\n",
      "Epoch 30/30\n",
      "269/269 [==============================] - 78s 289ms/step - loss: 0.3397 - val_loss: 0.5102\n",
      "Model: \"encoder_decoder_1\"\n",
      "_________________________________________________________________\n",
      "Layer (type)                 Output Shape              Param #   \n",
      "=================================================================\n",
      "encoder (Encoder)            multiple                  3408000   \n",
      "_________________________________________________________________\n",
      "decoder (Decoder)            multiple                  2551739   \n",
      "=================================================================\n",
      "Total params: 5,959,739\n",
      "Trainable params: 5,959,739\n",
      "Non-trainable params: 0\n",
      "_________________________________________________________________\n"
     ]
    }
   ],
   "source": [
    "#Compile and train your model on general scoring function.\n",
    "# Visualize few sentences randomly in Test data\n",
    "# Predict on 1000 random sentences on test data and calculate the average BLEU score of these sentences.\n",
    "# https://www.nltk.org/_modules/nltk/translate/bleu_score.html\n",
    "\n",
    "\n",
    "model2_general = encoder_decoder(len(tknizer_ita.word_index),(128,128),64,20,20,len(tknizer_eng.word_index),'general',64)\n",
    "optimizer = tf.keras.optimizers.Adam(0.005)\n",
    "model2_general.compile(optimizer=optimizer,loss=custom_lossfunction)\n",
    "train_steps=train.shape[0]//1024\n",
    "valid_steps=validation.shape[0]//1024\n",
    "model2_general.fit_generator(train_dataloader, steps_per_epoch=train_steps, epochs=30, validation_data=test_dataloader, validation_steps=valid_steps)\n",
    "model2_general.summary()"
   ]
  },
  {
   "cell_type": "code",
   "execution_count": 24,
   "metadata": {
    "id": "Y0DdhBzl9Oip"
   },
   "outputs": [],
   "source": [
    "def predict_general(input_sentence):\n",
    "\n",
    "  '''\n",
    "  A. Given input sentence, convert the sentence into integers using tokenizer used earlier\n",
    "  B. Pass the input_sequence to encoder. we get encoder_outputs, last time step hidden and cell state\n",
    "  C. Initialize index of <start> as input to decoder. and encoder final states as input_states to onestepdecoder.\n",
    "  D. till we reach max_length of decoder or till the model predicted word <end>:\n",
    "         predictions, input_states, attention_weights = model.layers[1].onestepdecoder(input_to_decoder, encoder_output, input_states)\n",
    "         Save the attention weights\n",
    "         And get the word using the tokenizer(word index) and then store it in a string.\n",
    "  E. Call plot_attention(#params)\n",
    "  F. Return the predicted sentence\n",
    "  '''\n",
    "  token_sequence = tknizer_ita.texts_to_sequences([input_sentence])\n",
    "  pad_seq = pad_sequences(token_sequence, padding='post', maxlen=20)\n",
    "\n",
    "  initial_state = model2_general.layers[0].initialize_states(1024)\n",
    "  encoder_output,hidden_state_enc,cell_state_enc = model2_general.layers[0](pad_seq,initial_state)\n",
    "  state_values = [hidden_state_enc,cell_state_enc]\n",
    "  cur_vec = tf.expand_dims([tknizer_eng.word_index['<start>']],0)\n",
    "\n",
    "  global attention_plot\n",
    "  attention_plot = np.zeros((20, 20))\n",
    "  result = ''\n",
    "  predictions = []\n",
    "\n",
    "  for f in range(20):\n",
    "    output,state_h,state_c,attention_weights,context_vector = model2_general.layers[1].onestepdecoder(cur_vec, encoder_output, state_values[0],state_values[1])\n",
    "    state_values = [state_h,state_c]\n",
    "\n",
    "    attention_weights = tf.reshape(attention_weights, (-1, ))\n",
    "    attention_plot[f] = attention_weights.numpy()\n",
    "    \n",
    "    predicted_id = tf.argmax(output).numpy()\n",
    "\n",
    "    if tknizer_eng.index_word[predicted_id] == '<end>':\n",
    "      break\n",
    "    \n",
    "    cur_vec = tf.expand_dims([predicted_id], 0)\n",
    "    result += tknizer_eng.index_word[predicted_id] + ' '\n",
    "\n",
    "  return result.strip()"
   ]
  },
  {
   "cell_type": "code",
   "execution_count": 28,
   "metadata": {
    "colab": {
     "base_uri": "https://localhost:8080/",
     "height": 673
    },
    "id": "t-tHNzrAGawQ",
    "outputId": "2e49f749-4610-4be5-b40a-bd9ebac4bbbb"
   },
   "outputs": [
    {
     "data": {
      "image/png": "[encoded data removed]",
      "text/plain": [
       "<Figure size 720x720 with 1 Axes>"
      ]
     },
     "metadata": {
      "needs_background": "light",
      "tags": []
     },
     "output_type": "display_data"
    }
   ],
   "source": [
    "input_sentence = validation.iloc[1,:]['italian']\n",
    "result = predict_general(input_sentence)\n",
    "attention_plot = attention_plot[:len(result.split(' ')), :len(input_sentence.split(' '))]\n",
    "plot_attention(attention_plot, input_sentence.split(' '), result.strip().split(' '))"
   ]
  },
  {
   "cell_type": "code",
   "execution_count": 29,
   "metadata": {
    "colab": {
     "base_uri": "https://localhost:8080/"
    },
    "id": "rT5BbyhDGyjt",
    "outputId": "91589877-b449-48c7-88e1-f90aa01beb8d"
   },
   "outputs": [
    {
     "name": "stdout",
     "output_type": "stream",
     "text": [
      "BLEU score: 0.7593959731689988\n"
     ]
    }
   ],
   "source": [
    "rand_val = np.random.randint(0,len(validation),size=(1000))\n",
    "iter_val = validation.iloc[rand_val,:].apply(lambda x: bleu.sentence_bleu(x['english_out'][:-6],predict_general(x['italian'])),axis=1)\n",
    "print(\"BLEU score:\",np.sum(iter_val.values)/1000)"
   ]
  },
  {
   "cell_type": "markdown",
   "metadata": {
    "id": "VB1jRUqZQ9AM"
   },
   "source": [
    "<font color='blue'>**Repeat the same steps for Concat scoring function**</font>"
   ]
  },
  {
   "cell_type": "code",
   "execution_count": 30,
   "metadata": {
    "colab": {
     "base_uri": "https://localhost:8080/"
    },
    "id": "1kN9ZWViQNMB",
    "outputId": "b5d4f4e2-56af-46bc-81cf-24ea85ae64fd"
   },
   "outputs": [
    {
     "name": "stdout",
     "output_type": "stream",
     "text": [
      "Epoch 1/30\n",
      "269/269 [==============================] - 115s 327ms/step - loss: 2.1242 - val_loss: 1.6146\n",
      "Epoch 2/30\n",
      "269/269 [==============================] - 80s 298ms/step - loss: 1.5052 - val_loss: 1.2322\n",
      "Epoch 3/30\n",
      "269/269 [==============================] - 80s 297ms/step - loss: 1.1659 - val_loss: 0.9944\n",
      "Epoch 4/30\n",
      "269/269 [==============================] - 80s 298ms/step - loss: 0.9353 - val_loss: 0.8293\n",
      "Epoch 5/30\n",
      "269/269 [==============================] - 81s 300ms/step - loss: 0.7679 - val_loss: 0.7082\n",
      "Epoch 6/30\n",
      "269/269 [==============================] - 80s 297ms/step - loss: 0.6390 - val_loss: 0.6192\n",
      "Epoch 7/30\n",
      "269/269 [==============================] - 80s 298ms/step - loss: 0.5389 - val_loss: 0.5579\n",
      "Epoch 8/30\n",
      "269/269 [==============================] - 81s 300ms/step - loss: 0.4666 - val_loss: 0.5144\n",
      "Epoch 9/30\n",
      "269/269 [==============================] - 80s 297ms/step - loss: 0.4122 - val_loss: 0.4832\n",
      "Epoch 10/30\n",
      "269/269 [==============================] - 81s 300ms/step - loss: 0.3695 - val_loss: 0.4605\n",
      "Epoch 11/30\n",
      "269/269 [==============================] - 80s 297ms/step - loss: 0.3383 - val_loss: 0.4418\n",
      "Epoch 12/30\n",
      "269/269 [==============================] - 80s 298ms/step - loss: 0.3100 - val_loss: 0.4300\n",
      "Epoch 13/30\n",
      "269/269 [==============================] - 80s 299ms/step - loss: 0.2911 - val_loss: 0.4208\n",
      "Epoch 14/30\n",
      "269/269 [==============================] - 80s 298ms/step - loss: 0.2739 - val_loss: 0.4138\n",
      "Epoch 15/30\n",
      "269/269 [==============================] - 80s 298ms/step - loss: 0.2569 - val_loss: 0.4082\n",
      "Epoch 16/30\n",
      "269/269 [==============================] - 80s 299ms/step - loss: 0.2455 - val_loss: 0.4036\n",
      "Epoch 17/30\n",
      "269/269 [==============================] - 81s 300ms/step - loss: 0.2342 - val_loss: 0.4019\n",
      "Epoch 18/30\n",
      "269/269 [==============================] - 81s 303ms/step - loss: 0.2242 - val_loss: 0.3988\n",
      "Epoch 19/30\n",
      "269/269 [==============================] - 81s 300ms/step - loss: 0.2174 - val_loss: 0.3977\n",
      "Epoch 20/30\n",
      "269/269 [==============================] - 80s 299ms/step - loss: 0.2091 - val_loss: 0.3959\n",
      "Epoch 21/30\n",
      "269/269 [==============================] - 80s 298ms/step - loss: 0.2023 - val_loss: 0.3954\n",
      "Epoch 22/30\n",
      "269/269 [==============================] - 81s 300ms/step - loss: 0.1963 - val_loss: 0.3957\n",
      "Epoch 23/30\n",
      "269/269 [==============================] - 81s 299ms/step - loss: 0.1898 - val_loss: 0.3952\n",
      "Epoch 24/30\n",
      "269/269 [==============================] - 81s 300ms/step - loss: 0.1875 - val_loss: 0.3978\n",
      "Epoch 25/30\n",
      "269/269 [==============================] - 80s 297ms/step - loss: 0.1817 - val_loss: 0.3971\n",
      "Epoch 26/30\n",
      "269/269 [==============================] - 80s 298ms/step - loss: 0.1775 - val_loss: 0.3972\n",
      "Epoch 27/30\n",
      "269/269 [==============================] - 80s 298ms/step - loss: 0.1745 - val_loss: 0.3985\n",
      "Epoch 28/30\n",
      "269/269 [==============================] - 80s 297ms/step - loss: 0.1712 - val_loss: 0.3995\n",
      "Epoch 29/30\n",
      "269/269 [==============================] - 80s 297ms/step - loss: 0.1685 - val_loss: 0.4013\n",
      "Epoch 30/30\n",
      "269/269 [==============================] - 80s 298ms/step - loss: 0.1655 - val_loss: 0.4023\n",
      "Model: \"encoder_decoder_2\"\n",
      "_________________________________________________________________\n",
      "Layer (type)                 Output Shape              Param #   \n",
      "=================================================================\n",
      "encoder_1 (Encoder)          multiple                  3408000   \n",
      "_________________________________________________________________\n",
      "decoder_1 (Decoder)          multiple                  2555964   \n",
      "=================================================================\n",
      "Total params: 5,963,964\n",
      "Trainable params: 5,963,964\n",
      "Non-trainable params: 0\n",
      "_________________________________________________________________\n"
     ]
    }
   ],
   "source": [
    "#Compile and train your model on concat scoring function.\n",
    "# Visualize few sentences randomly in Test data\n",
    "# Predict on 1000 random sentences on test data and calculate the average BLEU score of these sentences.\n",
    "# https://www.nltk.org/_modules/nltk/translate/bleu_score.html\n",
    "\n",
    "model2_concat = encoder_decoder(len(tknizer_ita.word_index),(128,128),64,20,20,len(tknizer_eng.word_index),'concat',64)\n",
    "optimizer = tf.keras.optimizers.Adam(0.005)\n",
    "model2_concat.compile(optimizer=optimizer,loss=custom_lossfunction)\n",
    "train_steps=train.shape[0]//1024\n",
    "valid_steps=validation.shape[0]//1024\n",
    "model2_concat.fit_generator(train_dataloader, steps_per_epoch=train_steps, epochs=30, validation_data=test_dataloader, validation_steps=valid_steps)\n",
    "model2_concat.summary()"
   ]
  },
  {
   "cell_type": "code",
   "execution_count": 31,
   "metadata": {
    "id": "cP7KgRcCQ02b"
   },
   "outputs": [],
   "source": [
    "def predict_concat(input_sentence):\n",
    "\n",
    "  '''\n",
    "  A. Given input sentence, convert the sentence into integers using tokenizer used earlier\n",
    "  B. Pass the input_sequence to encoder. we get encoder_outputs, last time step hidden and cell state\n",
    "  C. Initialize index of <start> as input to decoder. and encoder final states as input_states to onestepdecoder.\n",
    "  D. till we reach max_length of decoder or till the model predicted word <end>:\n",
    "         predictions, input_states, attention_weights = model.layers[1].onestepdecoder(input_to_decoder, encoder_output, input_states)\n",
    "         Save the attention weights\n",
    "         And get the word using the tokenizer(word index) and then store it in a string.\n",
    "  E. Call plot_attention(#params)\n",
    "  F. Return the predicted sentence\n",
    "  '''\n",
    "  token_sequence = tknizer_ita.texts_to_sequences([input_sentence])\n",
    "  pad_seq = pad_sequences(token_sequence, padding='post', maxlen=20)\n",
    "\n",
    "  initial_state = model2_concat.layers[0].initialize_states(1024)\n",
    "  encoder_output,hidden_state_enc,cell_state_enc = model2_concat.layers[0](pad_seq,initial_state)\n",
    "  state_values = [hidden_state_enc,cell_state_enc]\n",
    "  cur_vec = tf.expand_dims([tknizer_eng.word_index['<start>']],0)\n",
    "\n",
    "  global attention_plot\n",
    "  attention_plot = np.zeros((20, 20))\n",
    "  result = ''\n",
    "  predictions = []\n",
    "\n",
    "  for f in range(20):\n",
    "    output,state_h,state_c,attention_weights,context_vector = model2_concat.layers[1].onestepdecoder(cur_vec, encoder_output, state_values[0],state_values[1])\n",
    "    state_values = [state_h,state_c]\n",
    "\n",
    "    attention_weights = tf.reshape(attention_weights, (-1, ))\n",
    "    attention_plot[f] = attention_weights.numpy()\n",
    "    \n",
    "    predicted_id = tf.argmax(output).numpy()\n",
    "    # predictions.append(predicted_id)\n",
    "\n",
    "    if tknizer_eng.index_word[predicted_id] == '<end>':\n",
    "      break\n",
    "    \n",
    "    cur_vec = tf.expand_dims([predicted_id], 0)\n",
    "    result += tknizer_eng.index_word[predicted_id] + ' '\n",
    "\n",
    "  return result.strip()"
   ]
  },
  {
   "cell_type": "code",
   "execution_count": 33,
   "metadata": {
    "colab": {
     "base_uri": "https://localhost:8080/",
     "height": 640
    },
    "id": "QvCnfsrmRGeS",
    "outputId": "85eb0871-52c2-4543-97db-790eceb24671"
   },
   "outputs": [
    {
     "data": {
      "image/png": "[encoded data removed]",
      "text/plain": [
       "<Figure size 720x720 with 1 Axes>"
      ]
     },
     "metadata": {
      "needs_background": "light",
      "tags": []
     },
     "output_type": "display_data"
    }
   ],
   "source": [
    "input_sentence = validation.iloc[2,:]['italian']\n",
    "result = predict_concat(input_sentence)\n",
    "attention_plot = attention_plot[:len(result.split(' ')), :len(input_sentence.split(' '))]\n",
    "plot_attention(attention_plot, input_sentence.split(' '), result.strip().split(' '))"
   ]
  },
  {
   "cell_type": "code",
   "execution_count": 34,
   "metadata": {
    "colab": {
     "base_uri": "https://localhost:8080/"
    },
    "id": "LoC2ChwYRR2k",
    "outputId": "71c1875f-0dbd-478a-d355-03ff057b8ddd"
   },
   "outputs": [
    {
     "name": "stdout",
     "output_type": "stream",
     "text": [
      "BLEU score: 0.8086566488463641\n"
     ]
    }
   ],
   "source": [
    "rand_val = np.random.randint(0,len(validation),size=(1000))\n",
    "iter_val = validation.iloc[rand_val,:].apply(lambda x: bleu.sentence_bleu(x['english_out'][:-6],predict_concat(x['italian'])),axis=1)\n",
    "print(\"BLEU score:\",np.sum(iter_val.values)/1000)"
   ]
  },
  {
   "cell_type": "markdown",
   "metadata": {
    "id": "j5Xj_MG6R71N"
   },
   "source": [
    "#Write your observations on each of the scoring function - \n",
    "\n",
    "We created 3 different models, where each was implemented with one of the three attention score functions. All of them were trained for 30 epochs each. The models trainined with the concat and general score functions had a similar BLUE score of approximately 0.75. The model trainined using the concat function had a significantly greated BLEU score of approximately 0.80."
   ]
  }
 ],
 "metadata": {
  "accelerator": "GPU",
  "colab": {
   "collapsed_sections": [],
   "name": "Copy_of_Seq2SeqImplementation__Assignment.ipynb",
   "provenance": [],
   "toc_visible": true
  },
  "kernelspec": {
   "display_name": "Python 3",
   "language": "python",
   "name": "python3"
  },
  "language_info": {
   "codemirror_mode": {
    "name": "ipython",
    "version": 3
   },
   "file_extension": ".py",
   "mimetype": "text/x-python",
   "name": "python",
   "nbconvert_exporter": "python",
   "pygments_lexer": "ipython3",
   "version": "3.6.9"
  }
 },
 "nbformat": 4,
 "nbformat_minor": 1
}
